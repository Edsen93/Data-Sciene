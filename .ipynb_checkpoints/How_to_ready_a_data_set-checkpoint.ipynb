{
 "cells": [
  {
   "cell_type": "markdown",
   "metadata": {},
   "source": [
    "# Stragi for analyse\n",
    "Prep the dataset for training"
   ]
  },
  {
   "cell_type": "code",
   "execution_count": 162,
   "metadata": {},
   "outputs": [],
   "source": [
    "import pandas as pd\n",
    "import numpy as np\n",
    "import math"
   ]
  },
  {
   "cell_type": "code",
   "execution_count": 163,
   "metadata": {},
   "outputs": [],
   "source": [
    "#Read the dataframe\n",
    "df = pd.read_csv(\".\\stud-stat-anonymous.csv\")"
   ]
  },
  {
   "cell_type": "code",
   "execution_count": 164,
   "metadata": {},
   "outputs": [],
   "source": [
    "#Create a new dataframe, that store the prep data\n",
    "d = {'student': [], 'team': [], 'absence': []}\n",
    "newdf= pd.DataFrame(data=d)"
   ]
  },
  {
   "cell_type": "code",
   "execution_count": null,
   "metadata": {},
   "outputs": [],
   "source": []
  },
  {
   "cell_type": "code",
   "execution_count": 165,
   "metadata": {},
   "outputs": [],
   "source": [
    "#insert multi rows pr student, so that's not spars that in the set\n",
    "for index, row in df.iterrows():\n",
    "    #row[\"Fag\"]\n",
    "    #newdf = newdf.append({'student':row['Id'],'team':row['Klasse'],'absence':row['Samlet fravær']}, ignore_index=True)\n",
    "    \n",
    "    newdf = newdf.append({'student':row['Id'],'team':row['Fag'],'absence':row['Fravær']}, ignore_index=True)\n",
    "    newdf = newdf.append({'student':row['Id'],'team':row['Fag.1'],'absence':row['Fravær.1']}, ignore_index=True)\n",
    "    newdf = newdf.append({'student':row['Id'],'team':row['Fag.2'],'absence':row['Fravær.2']}, ignore_index=True)\n",
    "    newdf = newdf.append({'student':row['Id'],'team':row['Fag.3'],'absence':row['Fravær.3']}, ignore_index=True)\n",
    "                         \n"
   ]
  },
  {
   "cell_type": "code",
   "execution_count": 166,
   "metadata": {},
   "outputs": [],
   "source": [
    "#drop any spars data\n",
    "newdf = newdf.dropna()"
   ]
  },
  {
   "cell_type": "code",
   "execution_count": 167,
   "metadata": {},
   "outputs": [],
   "source": [
    "#convert the absence from a string to float and removing the % symbole\n",
    "arr =newdf[\"absence\"].values\n",
    "tmp = []\n",
    "for x in arr:\n",
    "    x= float(x.replace('%', ''))\n",
    "    \n",
    "    tmp.append(x)\n",
    "newdf =newdf.drop(['absence'], axis=1)\n",
    "newdf['absence'] = tmp\n"
   ]
  },
  {
   "cell_type": "code",
   "execution_count": 168,
   "metadata": {},
   "outputs": [
    {
     "data": {
      "text/html": [
       "<div>\n",
       "<style scoped>\n",
       "    .dataframe tbody tr th:only-of-type {\n",
       "        vertical-align: middle;\n",
       "    }\n",
       "\n",
       "    .dataframe tbody tr th {\n",
       "        vertical-align: top;\n",
       "    }\n",
       "\n",
       "    .dataframe thead th {\n",
       "        text-align: right;\n",
       "    }\n",
       "</style>\n",
       "<table border=\"1\" class=\"dataframe\">\n",
       "  <thead>\n",
       "    <tr style=\"text-align: right;\">\n",
       "      <th></th>\n",
       "      <th>student</th>\n",
       "      <th>team</th>\n",
       "      <th>absence</th>\n",
       "    </tr>\n",
       "  </thead>\n",
       "  <tbody>\n",
       "    <tr>\n",
       "      <th>0</th>\n",
       "      <td>866066.0</td>\n",
       "      <td>Angular</td>\n",
       "      <td>100.0</td>\n",
       "    </tr>\n",
       "    <tr>\n",
       "      <th>1</th>\n",
       "      <td>866066.0</td>\n",
       "      <td>Web Security</td>\n",
       "      <td>100.0</td>\n",
       "    </tr>\n",
       "    <tr>\n",
       "      <th>4</th>\n",
       "      <td>130671.0</td>\n",
       "      <td>Angular</td>\n",
       "      <td>100.0</td>\n",
       "    </tr>\n",
       "    <tr>\n",
       "      <th>5</th>\n",
       "      <td>130671.0</td>\n",
       "      <td>Web Security</td>\n",
       "      <td>100.0</td>\n",
       "    </tr>\n",
       "    <tr>\n",
       "      <th>8</th>\n",
       "      <td>313022.0</td>\n",
       "      <td>Angular</td>\n",
       "      <td>100.0</td>\n",
       "    </tr>\n",
       "  </tbody>\n",
       "</table>\n",
       "</div>"
      ],
      "text/plain": [
       "    student          team  absence\n",
       "0  866066.0       Angular    100.0\n",
       "1  866066.0  Web Security    100.0\n",
       "4  130671.0       Angular    100.0\n",
       "5  130671.0  Web Security    100.0\n",
       "8  313022.0       Angular    100.0"
      ]
     },
     "execution_count": 168,
     "metadata": {},
     "output_type": "execute_result"
    }
   ],
   "source": [
    "\n",
    "newdf.head()\n"
   ]
  },
  {
   "cell_type": "code",
   "execution_count": 169,
   "metadata": {},
   "outputs": [],
   "source": [
    "#remove all rows where the column absence is bigger then 75\n",
    "newdf = newdf[newdf[\"absence\"] <= 75.0]\n",
    "#create an team id, so if we want to do ML that takes a parameter team, we can use team id.\n",
    "team_encode,team_id = newdf['team'].factorize()\n",
    "newdf[\"team_id\"] = team_encode\n",
    "columnsTitles=[\"student\",\"team\",\"team_id\",\"absence\"]\n",
    "newdf=newdf.reindex(columns=columnsTitles)"
   ]
  },
  {
   "cell_type": "code",
   "execution_count": 170,
   "metadata": {},
   "outputs": [
    {
     "name": "stdout",
     "output_type": "stream",
     "text": [
      "<class 'pandas.core.frame.DataFrame'>\n",
      "Int64Index: 531 entries, 89 to 890\n",
      "Data columns (total 4 columns):\n",
      "student    531 non-null float64\n",
      "team       531 non-null object\n",
      "team_id    531 non-null int64\n",
      "absence    531 non-null float64\n",
      "dtypes: float64(2), int64(1), object(1)\n",
      "memory usage: 20.7+ KB\n"
     ]
    }
   ],
   "source": [
    "newdf.info()"
   ]
  },
  {
   "cell_type": "code",
   "execution_count": 171,
   "metadata": {},
   "outputs": [
    {
     "data": {
      "text/html": [
       "<div>\n",
       "<style scoped>\n",
       "    .dataframe tbody tr th:only-of-type {\n",
       "        vertical-align: middle;\n",
       "    }\n",
       "\n",
       "    .dataframe tbody tr th {\n",
       "        vertical-align: top;\n",
       "    }\n",
       "\n",
       "    .dataframe thead th {\n",
       "        text-align: right;\n",
       "    }\n",
       "</style>\n",
       "<table border=\"1\" class=\"dataframe\">\n",
       "  <thead>\n",
       "    <tr style=\"text-align: right;\">\n",
       "      <th></th>\n",
       "      <th>student</th>\n",
       "      <th>team</th>\n",
       "      <th>team_id</th>\n",
       "      <th>absence</th>\n",
       "    </tr>\n",
       "  </thead>\n",
       "  <tbody>\n",
       "    <tr>\n",
       "      <th>89</th>\n",
       "      <td>645146.0</td>\n",
       "      <td>IT Governance 2</td>\n",
       "      <td>0</td>\n",
       "      <td>0.00</td>\n",
       "    </tr>\n",
       "    <tr>\n",
       "      <th>93</th>\n",
       "      <td>885986.0</td>\n",
       "      <td>IT Governance 2</td>\n",
       "      <td>0</td>\n",
       "      <td>0.00</td>\n",
       "    </tr>\n",
       "    <tr>\n",
       "      <th>97</th>\n",
       "      <td>552567.0</td>\n",
       "      <td>IT Governance 2</td>\n",
       "      <td>0</td>\n",
       "      <td>0.00</td>\n",
       "    </tr>\n",
       "    <tr>\n",
       "      <th>100</th>\n",
       "      <td>901019.0</td>\n",
       "      <td>Databases</td>\n",
       "      <td>1</td>\n",
       "      <td>50.00</td>\n",
       "    </tr>\n",
       "    <tr>\n",
       "      <th>104</th>\n",
       "      <td>802192.0</td>\n",
       "      <td>Angular</td>\n",
       "      <td>2</td>\n",
       "      <td>66.67</td>\n",
       "    </tr>\n",
       "  </tbody>\n",
       "</table>\n",
       "</div>"
      ],
      "text/plain": [
       "      student             team  team_id  absence\n",
       "89   645146.0  IT Governance 2        0     0.00\n",
       "93   885986.0  IT Governance 2        0     0.00\n",
       "97   552567.0  IT Governance 2        0     0.00\n",
       "100  901019.0        Databases        1    50.00\n",
       "104  802192.0          Angular        2    66.67"
      ]
     },
     "execution_count": 171,
     "metadata": {},
     "output_type": "execute_result"
    }
   ],
   "source": [
    "newdf.head()"
   ]
  }
 ],
 "metadata": {
  "kernelspec": {
   "display_name": "Python 3",
   "language": "python",
   "name": "python3"
  },
  "language_info": {
   "codemirror_mode": {
    "name": "ipython",
    "version": 3
   },
   "file_extension": ".py",
   "mimetype": "text/x-python",
   "name": "python",
   "nbconvert_exporter": "python",
   "pygments_lexer": "ipython3",
   "version": "3.7.1"
  }
 },
 "nbformat": 4,
 "nbformat_minor": 2
}

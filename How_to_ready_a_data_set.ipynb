{
 "cells": [
  {
   "cell_type": "markdown",
   "metadata": {},
   "source": [
    "# Stragi for analyse\n",
    "Prep the dataset for training"
   ]
  },
  {
   "cell_type": "code",
   "execution_count": 1,
   "metadata": {},
   "outputs": [],
   "source": [
    "import pandas as pd\n",
    "import numpy as np\n",
    "import math\n",
    "import matplotlib.pyplot as plt"
   ]
  },
  {
   "cell_type": "code",
   "execution_count": 2,
   "metadata": {},
   "outputs": [],
   "source": [
    "#Read the dataframe\n",
    "df = pd.read_csv(\".\\stud-stat-anonymous.csv\")"
   ]
  },
  {
   "cell_type": "code",
   "execution_count": 3,
   "metadata": {},
   "outputs": [],
   "source": [
    "#Create a new dataframe, that store the prep data\n",
    "d = {'student': [], 'team': [], 'absence': [],'isClass': []}\n",
    "newdf= pd.DataFrame(data=d)"
   ]
  },
  {
   "cell_type": "code",
   "execution_count": 4,
   "metadata": {},
   "outputs": [
    {
     "data": {
      "text/html": [
       "<div>\n",
       "<style scoped>\n",
       "    .dataframe tbody tr th:only-of-type {\n",
       "        vertical-align: middle;\n",
       "    }\n",
       "\n",
       "    .dataframe tbody tr th {\n",
       "        vertical-align: top;\n",
       "    }\n",
       "\n",
       "    .dataframe thead th {\n",
       "        text-align: right;\n",
       "    }\n",
       "</style>\n",
       "<table border=\"1\" class=\"dataframe\">\n",
       "  <thead>\n",
       "    <tr style=\"text-align: right;\">\n",
       "      <th></th>\n",
       "      <th>student</th>\n",
       "      <th>team</th>\n",
       "      <th>absence</th>\n",
       "      <th>isClass</th>\n",
       "    </tr>\n",
       "  </thead>\n",
       "  <tbody>\n",
       "  </tbody>\n",
       "</table>\n",
       "</div>"
      ],
      "text/plain": [
       "Empty DataFrame\n",
       "Columns: [student, team, absence, isClass]\n",
       "Index: []"
      ]
     },
     "execution_count": 4,
     "metadata": {},
     "output_type": "execute_result"
    }
   ],
   "source": [
    "newdf"
   ]
  },
  {
   "cell_type": "code",
   "execution_count": 5,
   "metadata": {},
   "outputs": [],
   "source": [
    "#insert multi rows pr student, so that's not spars that in the set\n",
    "for index, row in df.iterrows():\n",
    "    #row[\"Fag\"]\n",
    "    #newdf = newdf.append({'student':row['Id'],'Class':row['Klasse']}, ignore_index=True)\n",
    "    newdf = newdf.append({'student':row['Id'],'team':row['Klasse'],'absence':row['Samlet fravær'],'isClass':True}, ignore_index=True)\n",
    "    newdf = newdf.append({'student':row['Id'],'team':row['Fag'],'absence':row['Fravær'],'isClass':False}, ignore_index=True)\n",
    "    newdf = newdf.append({'student':row['Id'],'team':row['Fag.1'],'absence':row['Fravær.1'],'isClass':False}, ignore_index=True)\n",
    "    newdf = newdf.append({'student':row['Id'],'team':row['Fag.2'],'absence':row['Fravær.2'],'isClass':False}, ignore_index=True)\n",
    "    newdf = newdf.append({'student':row['Id'],'team':row['Fag.3'],'absence':row['Fravær.3'],'isClass':False}, ignore_index=True)\n",
    "                         \n"
   ]
  },
  {
   "cell_type": "code",
   "execution_count": 6,
   "metadata": {},
   "outputs": [
    {
     "data": {
      "text/html": [
       "<div>\n",
       "<style scoped>\n",
       "    .dataframe tbody tr th:only-of-type {\n",
       "        vertical-align: middle;\n",
       "    }\n",
       "\n",
       "    .dataframe tbody tr th {\n",
       "        vertical-align: top;\n",
       "    }\n",
       "\n",
       "    .dataframe thead th {\n",
       "        text-align: right;\n",
       "    }\n",
       "</style>\n",
       "<table border=\"1\" class=\"dataframe\">\n",
       "  <thead>\n",
       "    <tr style=\"text-align: right;\">\n",
       "      <th></th>\n",
       "      <th>student</th>\n",
       "      <th>team</th>\n",
       "      <th>absence</th>\n",
       "      <th>isClass</th>\n",
       "    </tr>\n",
       "  </thead>\n",
       "  <tbody>\n",
       "    <tr>\n",
       "      <th>0</th>\n",
       "      <td>214366.0</td>\n",
       "      <td>Web and Soft Electives</td>\n",
       "      <td>100%</td>\n",
       "      <td>1.0</td>\n",
       "    </tr>\n",
       "    <tr>\n",
       "      <th>1</th>\n",
       "      <td>214366.0</td>\n",
       "      <td>Big Data</td>\n",
       "      <td>100%</td>\n",
       "      <td>0.0</td>\n",
       "    </tr>\n",
       "    <tr>\n",
       "      <th>2</th>\n",
       "      <td>214366.0</td>\n",
       "      <td>NaN</td>\n",
       "      <td>NaN</td>\n",
       "      <td>0.0</td>\n",
       "    </tr>\n",
       "    <tr>\n",
       "      <th>3</th>\n",
       "      <td>214366.0</td>\n",
       "      <td>NaN</td>\n",
       "      <td>NaN</td>\n",
       "      <td>0.0</td>\n",
       "    </tr>\n",
       "    <tr>\n",
       "      <th>4</th>\n",
       "      <td>214366.0</td>\n",
       "      <td>NaN</td>\n",
       "      <td>NaN</td>\n",
       "      <td>0.0</td>\n",
       "    </tr>\n",
       "    <tr>\n",
       "      <th>5</th>\n",
       "      <td>680092.0</td>\n",
       "      <td>Web and Soft Electives</td>\n",
       "      <td>100%</td>\n",
       "      <td>1.0</td>\n",
       "    </tr>\n",
       "    <tr>\n",
       "      <th>6</th>\n",
       "      <td>680092.0</td>\n",
       "      <td>Angular</td>\n",
       "      <td>100%</td>\n",
       "      <td>0.0</td>\n",
       "    </tr>\n",
       "    <tr>\n",
       "      <th>7</th>\n",
       "      <td>680092.0</td>\n",
       "      <td>Web Security</td>\n",
       "      <td>100%</td>\n",
       "      <td>0.0</td>\n",
       "    </tr>\n",
       "    <tr>\n",
       "      <th>8</th>\n",
       "      <td>680092.0</td>\n",
       "      <td>NaN</td>\n",
       "      <td>NaN</td>\n",
       "      <td>0.0</td>\n",
       "    </tr>\n",
       "    <tr>\n",
       "      <th>9</th>\n",
       "      <td>680092.0</td>\n",
       "      <td>NaN</td>\n",
       "      <td>NaN</td>\n",
       "      <td>0.0</td>\n",
       "    </tr>\n",
       "    <tr>\n",
       "      <th>10</th>\n",
       "      <td>906441.0</td>\n",
       "      <td>Web and Soft Electives</td>\n",
       "      <td>100%</td>\n",
       "      <td>1.0</td>\n",
       "    </tr>\n",
       "    <tr>\n",
       "      <th>11</th>\n",
       "      <td>906441.0</td>\n",
       "      <td>Angular</td>\n",
       "      <td>100%</td>\n",
       "      <td>0.0</td>\n",
       "    </tr>\n",
       "    <tr>\n",
       "      <th>12</th>\n",
       "      <td>906441.0</td>\n",
       "      <td>Web Security</td>\n",
       "      <td>100%</td>\n",
       "      <td>0.0</td>\n",
       "    </tr>\n",
       "    <tr>\n",
       "      <th>13</th>\n",
       "      <td>906441.0</td>\n",
       "      <td>NaN</td>\n",
       "      <td>NaN</td>\n",
       "      <td>0.0</td>\n",
       "    </tr>\n",
       "    <tr>\n",
       "      <th>14</th>\n",
       "      <td>906441.0</td>\n",
       "      <td>NaN</td>\n",
       "      <td>NaN</td>\n",
       "      <td>0.0</td>\n",
       "    </tr>\n",
       "    <tr>\n",
       "      <th>15</th>\n",
       "      <td>432875.0</td>\n",
       "      <td>Web and Soft Electives</td>\n",
       "      <td>100%</td>\n",
       "      <td>1.0</td>\n",
       "    </tr>\n",
       "    <tr>\n",
       "      <th>16</th>\n",
       "      <td>432875.0</td>\n",
       "      <td>Angular</td>\n",
       "      <td>100%</td>\n",
       "      <td>0.0</td>\n",
       "    </tr>\n",
       "    <tr>\n",
       "      <th>17</th>\n",
       "      <td>432875.0</td>\n",
       "      <td>Web Security</td>\n",
       "      <td>100%</td>\n",
       "      <td>0.0</td>\n",
       "    </tr>\n",
       "    <tr>\n",
       "      <th>18</th>\n",
       "      <td>432875.0</td>\n",
       "      <td>NaN</td>\n",
       "      <td>NaN</td>\n",
       "      <td>0.0</td>\n",
       "    </tr>\n",
       "    <tr>\n",
       "      <th>19</th>\n",
       "      <td>432875.0</td>\n",
       "      <td>NaN</td>\n",
       "      <td>NaN</td>\n",
       "      <td>0.0</td>\n",
       "    </tr>\n",
       "    <tr>\n",
       "      <th>20</th>\n",
       "      <td>146518.0</td>\n",
       "      <td>Web and Soft Electives</td>\n",
       "      <td>100%</td>\n",
       "      <td>1.0</td>\n",
       "    </tr>\n",
       "    <tr>\n",
       "      <th>21</th>\n",
       "      <td>146518.0</td>\n",
       "      <td>Angular</td>\n",
       "      <td>100%</td>\n",
       "      <td>0.0</td>\n",
       "    </tr>\n",
       "    <tr>\n",
       "      <th>22</th>\n",
       "      <td>146518.0</td>\n",
       "      <td>Web Security</td>\n",
       "      <td>100%</td>\n",
       "      <td>0.0</td>\n",
       "    </tr>\n",
       "    <tr>\n",
       "      <th>23</th>\n",
       "      <td>146518.0</td>\n",
       "      <td>NaN</td>\n",
       "      <td>NaN</td>\n",
       "      <td>0.0</td>\n",
       "    </tr>\n",
       "    <tr>\n",
       "      <th>24</th>\n",
       "      <td>146518.0</td>\n",
       "      <td>NaN</td>\n",
       "      <td>NaN</td>\n",
       "      <td>0.0</td>\n",
       "    </tr>\n",
       "    <tr>\n",
       "      <th>25</th>\n",
       "      <td>864755.0</td>\n",
       "      <td>Web and Soft Electives</td>\n",
       "      <td>100%</td>\n",
       "      <td>1.0</td>\n",
       "    </tr>\n",
       "    <tr>\n",
       "      <th>26</th>\n",
       "      <td>864755.0</td>\n",
       "      <td>Angular</td>\n",
       "      <td>100%</td>\n",
       "      <td>0.0</td>\n",
       "    </tr>\n",
       "    <tr>\n",
       "      <th>27</th>\n",
       "      <td>864755.0</td>\n",
       "      <td>Web Security</td>\n",
       "      <td>100%</td>\n",
       "      <td>0.0</td>\n",
       "    </tr>\n",
       "    <tr>\n",
       "      <th>28</th>\n",
       "      <td>864755.0</td>\n",
       "      <td>NaN</td>\n",
       "      <td>NaN</td>\n",
       "      <td>0.0</td>\n",
       "    </tr>\n",
       "    <tr>\n",
       "      <th>29</th>\n",
       "      <td>864755.0</td>\n",
       "      <td>NaN</td>\n",
       "      <td>NaN</td>\n",
       "      <td>0.0</td>\n",
       "    </tr>\n",
       "    <tr>\n",
       "      <th>...</th>\n",
       "      <td>...</td>\n",
       "      <td>...</td>\n",
       "      <td>...</td>\n",
       "      <td>...</td>\n",
       "    </tr>\n",
       "    <tr>\n",
       "      <th>1090</th>\n",
       "      <td>293438.0</td>\n",
       "      <td>ITS19w1</td>\n",
       "      <td>0%</td>\n",
       "      <td>1.0</td>\n",
       "    </tr>\n",
       "    <tr>\n",
       "      <th>1091</th>\n",
       "      <td>293438.0</td>\n",
       "      <td>Intro til IT Sikkerhed</td>\n",
       "      <td>0%</td>\n",
       "      <td>0.0</td>\n",
       "    </tr>\n",
       "    <tr>\n",
       "      <th>1092</th>\n",
       "      <td>293438.0</td>\n",
       "      <td>Net. and Com. security</td>\n",
       "      <td>0%</td>\n",
       "      <td>0.0</td>\n",
       "    </tr>\n",
       "    <tr>\n",
       "      <th>1093</th>\n",
       "      <td>293438.0</td>\n",
       "      <td>System Security</td>\n",
       "      <td>0%</td>\n",
       "      <td>0.0</td>\n",
       "    </tr>\n",
       "    <tr>\n",
       "      <th>1094</th>\n",
       "      <td>293438.0</td>\n",
       "      <td>NaN</td>\n",
       "      <td>NaN</td>\n",
       "      <td>0.0</td>\n",
       "    </tr>\n",
       "    <tr>\n",
       "      <th>1095</th>\n",
       "      <td>803561.0</td>\n",
       "      <td>Web19w1</td>\n",
       "      <td>0%</td>\n",
       "      <td>1.0</td>\n",
       "    </tr>\n",
       "    <tr>\n",
       "      <th>1096</th>\n",
       "      <td>803561.0</td>\n",
       "      <td>Web Development</td>\n",
       "      <td>0%</td>\n",
       "      <td>0.0</td>\n",
       "    </tr>\n",
       "    <tr>\n",
       "      <th>1097</th>\n",
       "      <td>803561.0</td>\n",
       "      <td>Interface Design</td>\n",
       "      <td>0%</td>\n",
       "      <td>0.0</td>\n",
       "    </tr>\n",
       "    <tr>\n",
       "      <th>1098</th>\n",
       "      <td>803561.0</td>\n",
       "      <td>Databases</td>\n",
       "      <td>0%</td>\n",
       "      <td>0.0</td>\n",
       "    </tr>\n",
       "    <tr>\n",
       "      <th>1099</th>\n",
       "      <td>803561.0</td>\n",
       "      <td>NaN</td>\n",
       "      <td>NaN</td>\n",
       "      <td>0.0</td>\n",
       "    </tr>\n",
       "    <tr>\n",
       "      <th>1100</th>\n",
       "      <td>976720.0</td>\n",
       "      <td>Web19w1</td>\n",
       "      <td>0%</td>\n",
       "      <td>1.0</td>\n",
       "    </tr>\n",
       "    <tr>\n",
       "      <th>1101</th>\n",
       "      <td>976720.0</td>\n",
       "      <td>Web Development</td>\n",
       "      <td>0%</td>\n",
       "      <td>0.0</td>\n",
       "    </tr>\n",
       "    <tr>\n",
       "      <th>1102</th>\n",
       "      <td>976720.0</td>\n",
       "      <td>Interface Design</td>\n",
       "      <td>0%</td>\n",
       "      <td>0.0</td>\n",
       "    </tr>\n",
       "    <tr>\n",
       "      <th>1103</th>\n",
       "      <td>976720.0</td>\n",
       "      <td>Databases</td>\n",
       "      <td>0%</td>\n",
       "      <td>0.0</td>\n",
       "    </tr>\n",
       "    <tr>\n",
       "      <th>1104</th>\n",
       "      <td>976720.0</td>\n",
       "      <td>NaN</td>\n",
       "      <td>NaN</td>\n",
       "      <td>0.0</td>\n",
       "    </tr>\n",
       "    <tr>\n",
       "      <th>1105</th>\n",
       "      <td>172012.0</td>\n",
       "      <td>Web19w1</td>\n",
       "      <td>0%</td>\n",
       "      <td>1.0</td>\n",
       "    </tr>\n",
       "    <tr>\n",
       "      <th>1106</th>\n",
       "      <td>172012.0</td>\n",
       "      <td>Web Development</td>\n",
       "      <td>0%</td>\n",
       "      <td>0.0</td>\n",
       "    </tr>\n",
       "    <tr>\n",
       "      <th>1107</th>\n",
       "      <td>172012.0</td>\n",
       "      <td>Interface Design</td>\n",
       "      <td>0%</td>\n",
       "      <td>0.0</td>\n",
       "    </tr>\n",
       "    <tr>\n",
       "      <th>1108</th>\n",
       "      <td>172012.0</td>\n",
       "      <td>Databases</td>\n",
       "      <td>0%</td>\n",
       "      <td>0.0</td>\n",
       "    </tr>\n",
       "    <tr>\n",
       "      <th>1109</th>\n",
       "      <td>172012.0</td>\n",
       "      <td>NaN</td>\n",
       "      <td>NaN</td>\n",
       "      <td>0.0</td>\n",
       "    </tr>\n",
       "    <tr>\n",
       "      <th>1110</th>\n",
       "      <td>491703.0</td>\n",
       "      <td>Web19w1</td>\n",
       "      <td>0%</td>\n",
       "      <td>1.0</td>\n",
       "    </tr>\n",
       "    <tr>\n",
       "      <th>1111</th>\n",
       "      <td>491703.0</td>\n",
       "      <td>Web Development</td>\n",
       "      <td>0%</td>\n",
       "      <td>0.0</td>\n",
       "    </tr>\n",
       "    <tr>\n",
       "      <th>1112</th>\n",
       "      <td>491703.0</td>\n",
       "      <td>Interface Design</td>\n",
       "      <td>0%</td>\n",
       "      <td>0.0</td>\n",
       "    </tr>\n",
       "    <tr>\n",
       "      <th>1113</th>\n",
       "      <td>491703.0</td>\n",
       "      <td>Databases</td>\n",
       "      <td>0%</td>\n",
       "      <td>0.0</td>\n",
       "    </tr>\n",
       "    <tr>\n",
       "      <th>1114</th>\n",
       "      <td>491703.0</td>\n",
       "      <td>NaN</td>\n",
       "      <td>NaN</td>\n",
       "      <td>0.0</td>\n",
       "    </tr>\n",
       "    <tr>\n",
       "      <th>1115</th>\n",
       "      <td>532264.0</td>\n",
       "      <td>Web19w1</td>\n",
       "      <td>0%</td>\n",
       "      <td>1.0</td>\n",
       "    </tr>\n",
       "    <tr>\n",
       "      <th>1116</th>\n",
       "      <td>532264.0</td>\n",
       "      <td>Web Development</td>\n",
       "      <td>0%</td>\n",
       "      <td>0.0</td>\n",
       "    </tr>\n",
       "    <tr>\n",
       "      <th>1117</th>\n",
       "      <td>532264.0</td>\n",
       "      <td>Interface Design</td>\n",
       "      <td>0%</td>\n",
       "      <td>0.0</td>\n",
       "    </tr>\n",
       "    <tr>\n",
       "      <th>1118</th>\n",
       "      <td>532264.0</td>\n",
       "      <td>Databases</td>\n",
       "      <td>0%</td>\n",
       "      <td>0.0</td>\n",
       "    </tr>\n",
       "    <tr>\n",
       "      <th>1119</th>\n",
       "      <td>532264.0</td>\n",
       "      <td>NaN</td>\n",
       "      <td>NaN</td>\n",
       "      <td>0.0</td>\n",
       "    </tr>\n",
       "  </tbody>\n",
       "</table>\n",
       "<p>1120 rows × 4 columns</p>\n",
       "</div>"
      ],
      "text/plain": [
       "       student                    team absence  isClass\n",
       "0     214366.0  Web and Soft Electives    100%      1.0\n",
       "1     214366.0                Big Data    100%      0.0\n",
       "2     214366.0                     NaN     NaN      0.0\n",
       "3     214366.0                     NaN     NaN      0.0\n",
       "4     214366.0                     NaN     NaN      0.0\n",
       "5     680092.0  Web and Soft Electives    100%      1.0\n",
       "6     680092.0                 Angular    100%      0.0\n",
       "7     680092.0            Web Security    100%      0.0\n",
       "8     680092.0                     NaN     NaN      0.0\n",
       "9     680092.0                     NaN     NaN      0.0\n",
       "10    906441.0  Web and Soft Electives    100%      1.0\n",
       "11    906441.0                 Angular    100%      0.0\n",
       "12    906441.0            Web Security    100%      0.0\n",
       "13    906441.0                     NaN     NaN      0.0\n",
       "14    906441.0                     NaN     NaN      0.0\n",
       "15    432875.0  Web and Soft Electives    100%      1.0\n",
       "16    432875.0                 Angular    100%      0.0\n",
       "17    432875.0            Web Security    100%      0.0\n",
       "18    432875.0                     NaN     NaN      0.0\n",
       "19    432875.0                     NaN     NaN      0.0\n",
       "20    146518.0  Web and Soft Electives    100%      1.0\n",
       "21    146518.0                 Angular    100%      0.0\n",
       "22    146518.0            Web Security    100%      0.0\n",
       "23    146518.0                     NaN     NaN      0.0\n",
       "24    146518.0                     NaN     NaN      0.0\n",
       "25    864755.0  Web and Soft Electives    100%      1.0\n",
       "26    864755.0                 Angular    100%      0.0\n",
       "27    864755.0            Web Security    100%      0.0\n",
       "28    864755.0                     NaN     NaN      0.0\n",
       "29    864755.0                     NaN     NaN      0.0\n",
       "...        ...                     ...     ...      ...\n",
       "1090  293438.0                 ITS19w1      0%      1.0\n",
       "1091  293438.0  Intro til IT Sikkerhed      0%      0.0\n",
       "1092  293438.0  Net. and Com. security      0%      0.0\n",
       "1093  293438.0         System Security      0%      0.0\n",
       "1094  293438.0                     NaN     NaN      0.0\n",
       "1095  803561.0                 Web19w1      0%      1.0\n",
       "1096  803561.0         Web Development      0%      0.0\n",
       "1097  803561.0        Interface Design      0%      0.0\n",
       "1098  803561.0               Databases      0%      0.0\n",
       "1099  803561.0                     NaN     NaN      0.0\n",
       "1100  976720.0                 Web19w1      0%      1.0\n",
       "1101  976720.0         Web Development      0%      0.0\n",
       "1102  976720.0        Interface Design      0%      0.0\n",
       "1103  976720.0               Databases      0%      0.0\n",
       "1104  976720.0                     NaN     NaN      0.0\n",
       "1105  172012.0                 Web19w1      0%      1.0\n",
       "1106  172012.0         Web Development      0%      0.0\n",
       "1107  172012.0        Interface Design      0%      0.0\n",
       "1108  172012.0               Databases      0%      0.0\n",
       "1109  172012.0                     NaN     NaN      0.0\n",
       "1110  491703.0                 Web19w1      0%      1.0\n",
       "1111  491703.0         Web Development      0%      0.0\n",
       "1112  491703.0        Interface Design      0%      0.0\n",
       "1113  491703.0               Databases      0%      0.0\n",
       "1114  491703.0                     NaN     NaN      0.0\n",
       "1115  532264.0                 Web19w1      0%      1.0\n",
       "1116  532264.0         Web Development      0%      0.0\n",
       "1117  532264.0        Interface Design      0%      0.0\n",
       "1118  532264.0               Databases      0%      0.0\n",
       "1119  532264.0                     NaN     NaN      0.0\n",
       "\n",
       "[1120 rows x 4 columns]"
      ]
     },
     "execution_count": 6,
     "metadata": {},
     "output_type": "execute_result"
    }
   ],
   "source": [
    "newdf"
   ]
  },
  {
   "cell_type": "code",
   "execution_count": 7,
   "metadata": {},
   "outputs": [],
   "source": [
    "#drop any spars data\n",
    "newdf = newdf.dropna()"
   ]
  },
  {
   "cell_type": "code",
   "execution_count": 8,
   "metadata": {},
   "outputs": [],
   "source": [
    "#convert the absence from a string to float and removing the % symbole\n",
    "\n",
    "arr =newdf[\"absence\"].values\n",
    "tmp = []\n",
    "for x in arr:\n",
    "    x= float(x.replace('%', '')) \n",
    "    tmp.append(x)\n",
    "    \n",
    "newdf =newdf.drop(['absence'], axis=1)\n",
    "newdf['absence'] = tmp\n"
   ]
  },
  {
   "cell_type": "code",
   "execution_count": 9,
   "metadata": {},
   "outputs": [
    {
     "data": {
      "text/plain": [
       "array([100.  ,  96.9 ,   0.  ,  90.9 ,  80.  ,  88.5 ,  72.22,  88.  ,\n",
       "        79.31,  87.7 ,  85.71,  87.88,  86.2 ,  68.75,  63.64,  55.56,\n",
       "        85.5 ,  50.  ,  84.6 ,  77.  ,  61.11,  87.5 ,  88.89,  72.4 ,\n",
       "        68.42,  75.  ,  72.1 ,  81.82,  71.3 ,  71.2 ,  18.18,  70.1 ,\n",
       "        66.67,  68.  ,  68.97,  67.8 ,  67.7 ,  57.58,  81.25,  72.73,\n",
       "        66.7 ,  65.4 ,  73.68,  57.14,  63.6 ,  60.  ,  33.33,  59.8 ,\n",
       "        44.44,  58.5 ,  92.86,  60.61,  31.25,  57.5 ,  55.2 ,  22.22,\n",
       "        54.5 ,  16.67,  53.  ,  22.73,  71.43,  51.7 ,  71.05,  37.5 ,\n",
       "        49.4 ,  37.04,  49.2 ,  55.26,  40.91,  48.8 ,  38.89,  48.6 ,\n",
       "        28.57,  48.5 ,  48.3 ,  11.11,  47.7 ,  64.29,  18.75,  47.  ,\n",
       "        36.11,  46.  ,  37.93,  53.7 ,  45.7 ,  81.58,  14.29,  45.5 ,\n",
       "        44.6 ,  35.71,  41.38,  43.9 ,  53.33,  43.1 ,  42.42,  42.9 ,\n",
       "        31.03,  42.86,  42.4 ,  30.  ,  52.78,  41.4 ,  78.95,  12.5 ,\n",
       "        83.33,  25.  ,  40.9 ,  70.  ,  40.7 ,  23.68,  37.9 ,  36.9 ,\n",
       "        39.39,  36.8 ,  36.84,  36.4 ,  40.  ,  35.6 ,  51.72,  27.78,\n",
       "        35.4 ,  34.8 ,  34.7 ,  33.8 ,  33.3 ,  60.53,  31.2 ,   2.78,\n",
       "        30.5 ,  10.34,  29.2 ,  30.3 ,  29.  ,  52.63,  28.8 ,  20.  ,\n",
       "        28.7 ,  27.7 ,  27.6 ,  31.58,  63.16,  27.3 ,  26.8 ,  26.32,\n",
       "        25.9 ,  25.5 ,  24.07,  24.3 ,  24.1 ,  23.5 ,  47.37,  23.  ,\n",
       "         5.26,  22.6 ,  20.69,  21.5 ,  24.24,  15.15,  20.7 ,  20.2 ,\n",
       "        19.7 ,  19.5 ,  13.16,  18.5 ,  18.4 ,  18.3 ,  18.2 ,  36.67,\n",
       "        17.6 ,  17.4 ,  17.  ,  16.9 ,  21.43,  16.2 ,  15.8 ,  15.3 ,\n",
       "        13.6 ,  17.24,  26.67,  13.  ,  12.9 ,  12.2 ,  10.7 ,  23.08,\n",
       "        10.6 ,  12.12,  10.5 ,  10.2 ,   9.7 ,  10.53,   9.26,   9.2 ,\n",
       "         5.56,   9.1 ,   8.1 ,  18.52,   7.4 ,   7.3 ,   7.1 ,   7.  ,\n",
       "         1.72,   6.9 ,  15.79,   6.5 ,   6.2 ,   6.1 ,   5.7 ,   5.1 ,\n",
       "         4.8 ,   4.6 ,   3.4 ,   3.1 ,   1.  ])"
      ]
     },
     "execution_count": 9,
     "metadata": {},
     "output_type": "execute_result"
    }
   ],
   "source": [
    "\n",
    "newdf['absence'].unique()\n"
   ]
  },
  {
   "cell_type": "code",
   "execution_count": 10,
   "metadata": {},
   "outputs": [],
   "source": [
    "#remove all rows where the column absence is bigger then 75\n",
    "newdf = newdf[newdf[\"absence\"] <= 75.0]\n",
    "#create an team id, so if we want to do ML that takes a parameter team, we can use team id.\n",
    "team_encode,team_id = newdf['team'].factorize()\n",
    "newdf[\"team_id\"] = team_encode\n",
    "columnsTitles=[\"student\",\"team\",\"team_id\",\"absence\",\"isClass\"]\n",
    "newdf=newdf.reindex(columns=columnsTitles)"
   ]
  },
  {
   "cell_type": "code",
   "execution_count": 11,
   "metadata": {},
   "outputs": [
    {
     "name": "stdout",
     "output_type": "stream",
     "text": [
      "<class 'pandas.core.frame.DataFrame'>\n",
      "Int64Index: 722 entries, 117 to 1118\n",
      "Data columns (total 5 columns):\n",
      "student    722 non-null float64\n",
      "team       722 non-null object\n",
      "team_id    722 non-null int64\n",
      "absence    722 non-null float64\n",
      "isClass    722 non-null float64\n",
      "dtypes: float64(3), int64(1), object(1)\n",
      "memory usage: 33.8+ KB\n"
     ]
    }
   ],
   "source": [
    "newdf.info()"
   ]
  },
  {
   "cell_type": "code",
   "execution_count": 12,
   "metadata": {},
   "outputs": [
    {
     "data": {
      "text/html": [
       "<div>\n",
       "<style scoped>\n",
       "    .dataframe tbody tr th:only-of-type {\n",
       "        vertical-align: middle;\n",
       "    }\n",
       "\n",
       "    .dataframe tbody tr th {\n",
       "        vertical-align: top;\n",
       "    }\n",
       "\n",
       "    .dataframe thead th {\n",
       "        text-align: right;\n",
       "    }\n",
       "</style>\n",
       "<table border=\"1\" class=\"dataframe\">\n",
       "  <thead>\n",
       "    <tr style=\"text-align: right;\">\n",
       "      <th></th>\n",
       "      <th>student</th>\n",
       "      <th>team</th>\n",
       "      <th>team_id</th>\n",
       "      <th>absence</th>\n",
       "      <th>isClass</th>\n",
       "    </tr>\n",
       "  </thead>\n",
       "  <tbody>\n",
       "    <tr>\n",
       "      <th>117</th>\n",
       "      <td>215571.0</td>\n",
       "      <td>IT Governance 2</td>\n",
       "      <td>0</td>\n",
       "      <td>0.00</td>\n",
       "      <td>0.0</td>\n",
       "    </tr>\n",
       "    <tr>\n",
       "      <th>122</th>\n",
       "      <td>542155.0</td>\n",
       "      <td>IT Governance 2</td>\n",
       "      <td>0</td>\n",
       "      <td>0.00</td>\n",
       "      <td>0.0</td>\n",
       "    </tr>\n",
       "    <tr>\n",
       "      <th>127</th>\n",
       "      <td>825970.0</td>\n",
       "      <td>IT Governance 2</td>\n",
       "      <td>0</td>\n",
       "      <td>0.00</td>\n",
       "      <td>0.0</td>\n",
       "    </tr>\n",
       "    <tr>\n",
       "      <th>136</th>\n",
       "      <td>543558.0</td>\n",
       "      <td>Intro til IT Sikkerhed</td>\n",
       "      <td>1</td>\n",
       "      <td>72.22</td>\n",
       "      <td>0.0</td>\n",
       "    </tr>\n",
       "    <tr>\n",
       "      <th>147</th>\n",
       "      <td>613200.0</td>\n",
       "      <td>IT Governance 2</td>\n",
       "      <td>0</td>\n",
       "      <td>0.00</td>\n",
       "      <td>0.0</td>\n",
       "    </tr>\n",
       "  </tbody>\n",
       "</table>\n",
       "</div>"
      ],
      "text/plain": [
       "      student                    team  team_id  absence  isClass\n",
       "117  215571.0         IT Governance 2        0     0.00      0.0\n",
       "122  542155.0         IT Governance 2        0     0.00      0.0\n",
       "127  825970.0         IT Governance 2        0     0.00      0.0\n",
       "136  543558.0  Intro til IT Sikkerhed        1    72.22      0.0\n",
       "147  613200.0         IT Governance 2        0     0.00      0.0"
      ]
     },
     "execution_count": 12,
     "metadata": {},
     "output_type": "execute_result"
    }
   ],
   "source": [
    "newdf.head()"
   ]
  },
  {
   "cell_type": "code",
   "execution_count": null,
   "metadata": {},
   "outputs": [],
   "source": []
  },
  {
   "cell_type": "code",
   "execution_count": 13,
   "metadata": {},
   "outputs": [
    {
     "data": {
      "text/html": [
       "<div>\n",
       "<style scoped>\n",
       "    .dataframe tbody tr th:only-of-type {\n",
       "        vertical-align: middle;\n",
       "    }\n",
       "\n",
       "    .dataframe tbody tr th {\n",
       "        vertical-align: top;\n",
       "    }\n",
       "\n",
       "    .dataframe thead th {\n",
       "        text-align: right;\n",
       "    }\n",
       "</style>\n",
       "<table border=\"1\" class=\"dataframe\">\n",
       "  <thead>\n",
       "    <tr style=\"text-align: right;\">\n",
       "      <th></th>\n",
       "      <th>student</th>\n",
       "      <th>team</th>\n",
       "      <th>team_id</th>\n",
       "      <th>absence</th>\n",
       "      <th>isClass</th>\n",
       "    </tr>\n",
       "  </thead>\n",
       "  <tbody>\n",
       "    <tr>\n",
       "      <th>117</th>\n",
       "      <td>215571.0</td>\n",
       "      <td>IT Governance 2</td>\n",
       "      <td>0</td>\n",
       "      <td>0.00</td>\n",
       "      <td>0.0</td>\n",
       "    </tr>\n",
       "    <tr>\n",
       "      <th>122</th>\n",
       "      <td>542155.0</td>\n",
       "      <td>IT Governance 2</td>\n",
       "      <td>0</td>\n",
       "      <td>0.00</td>\n",
       "      <td>0.0</td>\n",
       "    </tr>\n",
       "    <tr>\n",
       "      <th>127</th>\n",
       "      <td>825970.0</td>\n",
       "      <td>IT Governance 2</td>\n",
       "      <td>0</td>\n",
       "      <td>0.00</td>\n",
       "      <td>0.0</td>\n",
       "    </tr>\n",
       "    <tr>\n",
       "      <th>136</th>\n",
       "      <td>543558.0</td>\n",
       "      <td>Intro til IT Sikkerhed</td>\n",
       "      <td>1</td>\n",
       "      <td>72.22</td>\n",
       "      <td>0.0</td>\n",
       "    </tr>\n",
       "    <tr>\n",
       "      <th>147</th>\n",
       "      <td>613200.0</td>\n",
       "      <td>IT Governance 2</td>\n",
       "      <td>0</td>\n",
       "      <td>0.00</td>\n",
       "      <td>0.0</td>\n",
       "    </tr>\n",
       "    <tr>\n",
       "      <th>152</th>\n",
       "      <td>615329.0</td>\n",
       "      <td>IT Governance 2</td>\n",
       "      <td>0</td>\n",
       "      <td>0.00</td>\n",
       "      <td>0.0</td>\n",
       "    </tr>\n",
       "    <tr>\n",
       "      <th>154</th>\n",
       "      <td>615329.0</td>\n",
       "      <td>Reverse Eng. Malware</td>\n",
       "      <td>2</td>\n",
       "      <td>68.75</td>\n",
       "      <td>0.0</td>\n",
       "    </tr>\n",
       "    <tr>\n",
       "      <th>156</th>\n",
       "      <td>699025.0</td>\n",
       "      <td>Big Data</td>\n",
       "      <td>3</td>\n",
       "      <td>63.64</td>\n",
       "      <td>0.0</td>\n",
       "    </tr>\n",
       "    <tr>\n",
       "      <th>161</th>\n",
       "      <td>751804.0</td>\n",
       "      <td>Web Development</td>\n",
       "      <td>4</td>\n",
       "      <td>55.56</td>\n",
       "      <td>0.0</td>\n",
       "    </tr>\n",
       "    <tr>\n",
       "      <th>166</th>\n",
       "      <td>328555.0</td>\n",
       "      <td>Databases</td>\n",
       "      <td>5</td>\n",
       "      <td>50.00</td>\n",
       "      <td>0.0</td>\n",
       "    </tr>\n",
       "    <tr>\n",
       "      <th>172</th>\n",
       "      <td>723459.0</td>\n",
       "      <td>IT Governance 2</td>\n",
       "      <td>0</td>\n",
       "      <td>0.00</td>\n",
       "      <td>0.0</td>\n",
       "    </tr>\n",
       "    <tr>\n",
       "      <th>174</th>\n",
       "      <td>723459.0</td>\n",
       "      <td>Reverse Eng. Malware</td>\n",
       "      <td>2</td>\n",
       "      <td>50.00</td>\n",
       "      <td>0.0</td>\n",
       "    </tr>\n",
       "    <tr>\n",
       "      <th>176</th>\n",
       "      <td>396493.0</td>\n",
       "      <td>Intro til IT Sikkerhed</td>\n",
       "      <td>1</td>\n",
       "      <td>61.11</td>\n",
       "      <td>0.0</td>\n",
       "    </tr>\n",
       "    <tr>\n",
       "      <th>180</th>\n",
       "      <td>635774.0</td>\n",
       "      <td>SD18i</td>\n",
       "      <td>6</td>\n",
       "      <td>72.40</td>\n",
       "      <td>1.0</td>\n",
       "    </tr>\n",
       "    <tr>\n",
       "      <th>181</th>\n",
       "      <td>635774.0</td>\n",
       "      <td>DLS</td>\n",
       "      <td>7</td>\n",
       "      <td>68.42</td>\n",
       "      <td>0.0</td>\n",
       "    </tr>\n",
       "    <tr>\n",
       "      <th>183</th>\n",
       "      <td>635774.0</td>\n",
       "      <td>Data Science</td>\n",
       "      <td>8</td>\n",
       "      <td>75.00</td>\n",
       "      <td>0.0</td>\n",
       "    </tr>\n",
       "    <tr>\n",
       "      <th>185</th>\n",
       "      <td>646053.0</td>\n",
       "      <td>SD18i</td>\n",
       "      <td>6</td>\n",
       "      <td>72.10</td>\n",
       "      <td>1.0</td>\n",
       "    </tr>\n",
       "    <tr>\n",
       "      <th>186</th>\n",
       "      <td>646053.0</td>\n",
       "      <td>DLS</td>\n",
       "      <td>7</td>\n",
       "      <td>68.42</td>\n",
       "      <td>0.0</td>\n",
       "    </tr>\n",
       "    <tr>\n",
       "      <th>187</th>\n",
       "      <td>646053.0</td>\n",
       "      <td>System Integration</td>\n",
       "      <td>9</td>\n",
       "      <td>0.00</td>\n",
       "      <td>0.0</td>\n",
       "    </tr>\n",
       "    <tr>\n",
       "      <th>190</th>\n",
       "      <td>879390.0</td>\n",
       "      <td>ITS19w1</td>\n",
       "      <td>10</td>\n",
       "      <td>71.30</td>\n",
       "      <td>1.0</td>\n",
       "    </tr>\n",
       "    <tr>\n",
       "      <th>191</th>\n",
       "      <td>879390.0</td>\n",
       "      <td>Intro til IT Sikkerhed</td>\n",
       "      <td>1</td>\n",
       "      <td>55.56</td>\n",
       "      <td>0.0</td>\n",
       "    </tr>\n",
       "    <tr>\n",
       "      <th>192</th>\n",
       "      <td>879390.0</td>\n",
       "      <td>Net. and Com. security</td>\n",
       "      <td>11</td>\n",
       "      <td>75.00</td>\n",
       "      <td>0.0</td>\n",
       "    </tr>\n",
       "    <tr>\n",
       "      <th>195</th>\n",
       "      <td>666991.0</td>\n",
       "      <td>Web and Soft Electives</td>\n",
       "      <td>12</td>\n",
       "      <td>71.20</td>\n",
       "      <td>1.0</td>\n",
       "    </tr>\n",
       "    <tr>\n",
       "      <th>196</th>\n",
       "      <td>666991.0</td>\n",
       "      <td>Big Data</td>\n",
       "      <td>3</td>\n",
       "      <td>18.18</td>\n",
       "      <td>0.0</td>\n",
       "    </tr>\n",
       "    <tr>\n",
       "      <th>197</th>\n",
       "      <td>666991.0</td>\n",
       "      <td>Databases</td>\n",
       "      <td>5</td>\n",
       "      <td>50.00</td>\n",
       "      <td>0.0</td>\n",
       "    </tr>\n",
       "    <tr>\n",
       "      <th>200</th>\n",
       "      <td>397345.0</td>\n",
       "      <td>ITS19w1</td>\n",
       "      <td>10</td>\n",
       "      <td>70.10</td>\n",
       "      <td>1.0</td>\n",
       "    </tr>\n",
       "    <tr>\n",
       "      <th>201</th>\n",
       "      <td>397345.0</td>\n",
       "      <td>Intro til IT Sikkerhed</td>\n",
       "      <td>1</td>\n",
       "      <td>61.11</td>\n",
       "      <td>0.0</td>\n",
       "    </tr>\n",
       "    <tr>\n",
       "      <th>203</th>\n",
       "      <td>397345.0</td>\n",
       "      <td>System Security</td>\n",
       "      <td>13</td>\n",
       "      <td>55.56</td>\n",
       "      <td>0.0</td>\n",
       "    </tr>\n",
       "    <tr>\n",
       "      <th>205</th>\n",
       "      <td>179935.0</td>\n",
       "      <td>ITS19w1</td>\n",
       "      <td>10</td>\n",
       "      <td>70.10</td>\n",
       "      <td>1.0</td>\n",
       "    </tr>\n",
       "    <tr>\n",
       "      <th>206</th>\n",
       "      <td>179935.0</td>\n",
       "      <td>Intro til IT Sikkerhed</td>\n",
       "      <td>1</td>\n",
       "      <td>61.11</td>\n",
       "      <td>0.0</td>\n",
       "    </tr>\n",
       "    <tr>\n",
       "      <th>...</th>\n",
       "      <td>...</td>\n",
       "      <td>...</td>\n",
       "      <td>...</td>\n",
       "      <td>...</td>\n",
       "      <td>...</td>\n",
       "    </tr>\n",
       "    <tr>\n",
       "      <th>1084</th>\n",
       "      <td>700477.0</td>\n",
       "      <td>Reverse Eng. Malware</td>\n",
       "      <td>2</td>\n",
       "      <td>0.00</td>\n",
       "      <td>0.0</td>\n",
       "    </tr>\n",
       "    <tr>\n",
       "      <th>1085</th>\n",
       "      <td>223338.0</td>\n",
       "      <td>ITS18a</td>\n",
       "      <td>16</td>\n",
       "      <td>0.00</td>\n",
       "      <td>1.0</td>\n",
       "    </tr>\n",
       "    <tr>\n",
       "      <th>1086</th>\n",
       "      <td>223338.0</td>\n",
       "      <td>Security for mobile devices</td>\n",
       "      <td>22</td>\n",
       "      <td>0.00</td>\n",
       "      <td>0.0</td>\n",
       "    </tr>\n",
       "    <tr>\n",
       "      <th>1087</th>\n",
       "      <td>223338.0</td>\n",
       "      <td>IT Governance 2</td>\n",
       "      <td>0</td>\n",
       "      <td>0.00</td>\n",
       "      <td>0.0</td>\n",
       "    </tr>\n",
       "    <tr>\n",
       "      <th>1088</th>\n",
       "      <td>223338.0</td>\n",
       "      <td>Security Engineering</td>\n",
       "      <td>17</td>\n",
       "      <td>0.00</td>\n",
       "      <td>0.0</td>\n",
       "    </tr>\n",
       "    <tr>\n",
       "      <th>1089</th>\n",
       "      <td>223338.0</td>\n",
       "      <td>Reverse Eng. Malware</td>\n",
       "      <td>2</td>\n",
       "      <td>0.00</td>\n",
       "      <td>0.0</td>\n",
       "    </tr>\n",
       "    <tr>\n",
       "      <th>1090</th>\n",
       "      <td>293438.0</td>\n",
       "      <td>ITS19w1</td>\n",
       "      <td>10</td>\n",
       "      <td>0.00</td>\n",
       "      <td>1.0</td>\n",
       "    </tr>\n",
       "    <tr>\n",
       "      <th>1091</th>\n",
       "      <td>293438.0</td>\n",
       "      <td>Intro til IT Sikkerhed</td>\n",
       "      <td>1</td>\n",
       "      <td>0.00</td>\n",
       "      <td>0.0</td>\n",
       "    </tr>\n",
       "    <tr>\n",
       "      <th>1092</th>\n",
       "      <td>293438.0</td>\n",
       "      <td>Net. and Com. security</td>\n",
       "      <td>11</td>\n",
       "      <td>0.00</td>\n",
       "      <td>0.0</td>\n",
       "    </tr>\n",
       "    <tr>\n",
       "      <th>1093</th>\n",
       "      <td>293438.0</td>\n",
       "      <td>System Security</td>\n",
       "      <td>13</td>\n",
       "      <td>0.00</td>\n",
       "      <td>0.0</td>\n",
       "    </tr>\n",
       "    <tr>\n",
       "      <th>1095</th>\n",
       "      <td>803561.0</td>\n",
       "      <td>Web19w1</td>\n",
       "      <td>20</td>\n",
       "      <td>0.00</td>\n",
       "      <td>1.0</td>\n",
       "    </tr>\n",
       "    <tr>\n",
       "      <th>1096</th>\n",
       "      <td>803561.0</td>\n",
       "      <td>Web Development</td>\n",
       "      <td>4</td>\n",
       "      <td>0.00</td>\n",
       "      <td>0.0</td>\n",
       "    </tr>\n",
       "    <tr>\n",
       "      <th>1097</th>\n",
       "      <td>803561.0</td>\n",
       "      <td>Interface Design</td>\n",
       "      <td>21</td>\n",
       "      <td>0.00</td>\n",
       "      <td>0.0</td>\n",
       "    </tr>\n",
       "    <tr>\n",
       "      <th>1098</th>\n",
       "      <td>803561.0</td>\n",
       "      <td>Databases</td>\n",
       "      <td>5</td>\n",
       "      <td>0.00</td>\n",
       "      <td>0.0</td>\n",
       "    </tr>\n",
       "    <tr>\n",
       "      <th>1100</th>\n",
       "      <td>976720.0</td>\n",
       "      <td>Web19w1</td>\n",
       "      <td>20</td>\n",
       "      <td>0.00</td>\n",
       "      <td>1.0</td>\n",
       "    </tr>\n",
       "    <tr>\n",
       "      <th>1101</th>\n",
       "      <td>976720.0</td>\n",
       "      <td>Web Development</td>\n",
       "      <td>4</td>\n",
       "      <td>0.00</td>\n",
       "      <td>0.0</td>\n",
       "    </tr>\n",
       "    <tr>\n",
       "      <th>1102</th>\n",
       "      <td>976720.0</td>\n",
       "      <td>Interface Design</td>\n",
       "      <td>21</td>\n",
       "      <td>0.00</td>\n",
       "      <td>0.0</td>\n",
       "    </tr>\n",
       "    <tr>\n",
       "      <th>1103</th>\n",
       "      <td>976720.0</td>\n",
       "      <td>Databases</td>\n",
       "      <td>5</td>\n",
       "      <td>0.00</td>\n",
       "      <td>0.0</td>\n",
       "    </tr>\n",
       "    <tr>\n",
       "      <th>1105</th>\n",
       "      <td>172012.0</td>\n",
       "      <td>Web19w1</td>\n",
       "      <td>20</td>\n",
       "      <td>0.00</td>\n",
       "      <td>1.0</td>\n",
       "    </tr>\n",
       "    <tr>\n",
       "      <th>1106</th>\n",
       "      <td>172012.0</td>\n",
       "      <td>Web Development</td>\n",
       "      <td>4</td>\n",
       "      <td>0.00</td>\n",
       "      <td>0.0</td>\n",
       "    </tr>\n",
       "    <tr>\n",
       "      <th>1107</th>\n",
       "      <td>172012.0</td>\n",
       "      <td>Interface Design</td>\n",
       "      <td>21</td>\n",
       "      <td>0.00</td>\n",
       "      <td>0.0</td>\n",
       "    </tr>\n",
       "    <tr>\n",
       "      <th>1108</th>\n",
       "      <td>172012.0</td>\n",
       "      <td>Databases</td>\n",
       "      <td>5</td>\n",
       "      <td>0.00</td>\n",
       "      <td>0.0</td>\n",
       "    </tr>\n",
       "    <tr>\n",
       "      <th>1110</th>\n",
       "      <td>491703.0</td>\n",
       "      <td>Web19w1</td>\n",
       "      <td>20</td>\n",
       "      <td>0.00</td>\n",
       "      <td>1.0</td>\n",
       "    </tr>\n",
       "    <tr>\n",
       "      <th>1111</th>\n",
       "      <td>491703.0</td>\n",
       "      <td>Web Development</td>\n",
       "      <td>4</td>\n",
       "      <td>0.00</td>\n",
       "      <td>0.0</td>\n",
       "    </tr>\n",
       "    <tr>\n",
       "      <th>1112</th>\n",
       "      <td>491703.0</td>\n",
       "      <td>Interface Design</td>\n",
       "      <td>21</td>\n",
       "      <td>0.00</td>\n",
       "      <td>0.0</td>\n",
       "    </tr>\n",
       "    <tr>\n",
       "      <th>1113</th>\n",
       "      <td>491703.0</td>\n",
       "      <td>Databases</td>\n",
       "      <td>5</td>\n",
       "      <td>0.00</td>\n",
       "      <td>0.0</td>\n",
       "    </tr>\n",
       "    <tr>\n",
       "      <th>1115</th>\n",
       "      <td>532264.0</td>\n",
       "      <td>Web19w1</td>\n",
       "      <td>20</td>\n",
       "      <td>0.00</td>\n",
       "      <td>1.0</td>\n",
       "    </tr>\n",
       "    <tr>\n",
       "      <th>1116</th>\n",
       "      <td>532264.0</td>\n",
       "      <td>Web Development</td>\n",
       "      <td>4</td>\n",
       "      <td>0.00</td>\n",
       "      <td>0.0</td>\n",
       "    </tr>\n",
       "    <tr>\n",
       "      <th>1117</th>\n",
       "      <td>532264.0</td>\n",
       "      <td>Interface Design</td>\n",
       "      <td>21</td>\n",
       "      <td>0.00</td>\n",
       "      <td>0.0</td>\n",
       "    </tr>\n",
       "    <tr>\n",
       "      <th>1118</th>\n",
       "      <td>532264.0</td>\n",
       "      <td>Databases</td>\n",
       "      <td>5</td>\n",
       "      <td>0.00</td>\n",
       "      <td>0.0</td>\n",
       "    </tr>\n",
       "  </tbody>\n",
       "</table>\n",
       "<p>722 rows × 5 columns</p>\n",
       "</div>"
      ],
      "text/plain": [
       "       student                         team  team_id  absence  isClass\n",
       "117   215571.0              IT Governance 2        0     0.00      0.0\n",
       "122   542155.0              IT Governance 2        0     0.00      0.0\n",
       "127   825970.0              IT Governance 2        0     0.00      0.0\n",
       "136   543558.0       Intro til IT Sikkerhed        1    72.22      0.0\n",
       "147   613200.0              IT Governance 2        0     0.00      0.0\n",
       "152   615329.0              IT Governance 2        0     0.00      0.0\n",
       "154   615329.0         Reverse Eng. Malware        2    68.75      0.0\n",
       "156   699025.0                     Big Data        3    63.64      0.0\n",
       "161   751804.0              Web Development        4    55.56      0.0\n",
       "166   328555.0                    Databases        5    50.00      0.0\n",
       "172   723459.0              IT Governance 2        0     0.00      0.0\n",
       "174   723459.0         Reverse Eng. Malware        2    50.00      0.0\n",
       "176   396493.0       Intro til IT Sikkerhed        1    61.11      0.0\n",
       "180   635774.0                        SD18i        6    72.40      1.0\n",
       "181   635774.0                          DLS        7    68.42      0.0\n",
       "183   635774.0                 Data Science        8    75.00      0.0\n",
       "185   646053.0                        SD18i        6    72.10      1.0\n",
       "186   646053.0                          DLS        7    68.42      0.0\n",
       "187   646053.0           System Integration        9     0.00      0.0\n",
       "190   879390.0                      ITS19w1       10    71.30      1.0\n",
       "191   879390.0       Intro til IT Sikkerhed        1    55.56      0.0\n",
       "192   879390.0       Net. and Com. security       11    75.00      0.0\n",
       "195   666991.0       Web and Soft Electives       12    71.20      1.0\n",
       "196   666991.0                     Big Data        3    18.18      0.0\n",
       "197   666991.0                    Databases        5    50.00      0.0\n",
       "200   397345.0                      ITS19w1       10    70.10      1.0\n",
       "201   397345.0       Intro til IT Sikkerhed        1    61.11      0.0\n",
       "203   397345.0              System Security       13    55.56      0.0\n",
       "205   179935.0                      ITS19w1       10    70.10      1.0\n",
       "206   179935.0       Intro til IT Sikkerhed        1    61.11      0.0\n",
       "...        ...                          ...      ...      ...      ...\n",
       "1084  700477.0         Reverse Eng. Malware        2     0.00      0.0\n",
       "1085  223338.0                       ITS18a       16     0.00      1.0\n",
       "1086  223338.0  Security for mobile devices       22     0.00      0.0\n",
       "1087  223338.0              IT Governance 2        0     0.00      0.0\n",
       "1088  223338.0         Security Engineering       17     0.00      0.0\n",
       "1089  223338.0         Reverse Eng. Malware        2     0.00      0.0\n",
       "1090  293438.0                      ITS19w1       10     0.00      1.0\n",
       "1091  293438.0       Intro til IT Sikkerhed        1     0.00      0.0\n",
       "1092  293438.0       Net. and Com. security       11     0.00      0.0\n",
       "1093  293438.0              System Security       13     0.00      0.0\n",
       "1095  803561.0                      Web19w1       20     0.00      1.0\n",
       "1096  803561.0              Web Development        4     0.00      0.0\n",
       "1097  803561.0             Interface Design       21     0.00      0.0\n",
       "1098  803561.0                    Databases        5     0.00      0.0\n",
       "1100  976720.0                      Web19w1       20     0.00      1.0\n",
       "1101  976720.0              Web Development        4     0.00      0.0\n",
       "1102  976720.0             Interface Design       21     0.00      0.0\n",
       "1103  976720.0                    Databases        5     0.00      0.0\n",
       "1105  172012.0                      Web19w1       20     0.00      1.0\n",
       "1106  172012.0              Web Development        4     0.00      0.0\n",
       "1107  172012.0             Interface Design       21     0.00      0.0\n",
       "1108  172012.0                    Databases        5     0.00      0.0\n",
       "1110  491703.0                      Web19w1       20     0.00      1.0\n",
       "1111  491703.0              Web Development        4     0.00      0.0\n",
       "1112  491703.0             Interface Design       21     0.00      0.0\n",
       "1113  491703.0                    Databases        5     0.00      0.0\n",
       "1115  532264.0                      Web19w1       20     0.00      1.0\n",
       "1116  532264.0              Web Development        4     0.00      0.0\n",
       "1117  532264.0             Interface Design       21     0.00      0.0\n",
       "1118  532264.0                    Databases        5     0.00      0.0\n",
       "\n",
       "[722 rows x 5 columns]"
      ]
     },
     "execution_count": 13,
     "metadata": {},
     "output_type": "execute_result"
    }
   ],
   "source": [
    "newdf"
   ]
  },
  {
   "cell_type": "code",
   "execution_count": 14,
   "metadata": {},
   "outputs": [
    {
     "data": {
      "text/html": [
       "<div>\n",
       "<style scoped>\n",
       "    .dataframe tbody tr th:only-of-type {\n",
       "        vertical-align: middle;\n",
       "    }\n",
       "\n",
       "    .dataframe tbody tr th {\n",
       "        vertical-align: top;\n",
       "    }\n",
       "\n",
       "    .dataframe thead th {\n",
       "        text-align: right;\n",
       "    }\n",
       "</style>\n",
       "<table border=\"1\" class=\"dataframe\">\n",
       "  <thead>\n",
       "    <tr style=\"text-align: right;\">\n",
       "      <th></th>\n",
       "      <th>student</th>\n",
       "      <th>team</th>\n",
       "      <th>team_id</th>\n",
       "      <th>absence</th>\n",
       "      <th>isClass</th>\n",
       "    </tr>\n",
       "  </thead>\n",
       "  <tbody>\n",
       "    <tr>\n",
       "      <th>117</th>\n",
       "      <td>215571.0</td>\n",
       "      <td>IT Governance 2</td>\n",
       "      <td>0</td>\n",
       "      <td>0.00</td>\n",
       "      <td>0.0</td>\n",
       "    </tr>\n",
       "    <tr>\n",
       "      <th>122</th>\n",
       "      <td>542155.0</td>\n",
       "      <td>IT Governance 2</td>\n",
       "      <td>0</td>\n",
       "      <td>0.00</td>\n",
       "      <td>0.0</td>\n",
       "    </tr>\n",
       "    <tr>\n",
       "      <th>127</th>\n",
       "      <td>825970.0</td>\n",
       "      <td>IT Governance 2</td>\n",
       "      <td>0</td>\n",
       "      <td>0.00</td>\n",
       "      <td>0.0</td>\n",
       "    </tr>\n",
       "    <tr>\n",
       "      <th>136</th>\n",
       "      <td>543558.0</td>\n",
       "      <td>Intro til IT Sikkerhed</td>\n",
       "      <td>1</td>\n",
       "      <td>72.22</td>\n",
       "      <td>0.0</td>\n",
       "    </tr>\n",
       "    <tr>\n",
       "      <th>147</th>\n",
       "      <td>613200.0</td>\n",
       "      <td>IT Governance 2</td>\n",
       "      <td>0</td>\n",
       "      <td>0.00</td>\n",
       "      <td>0.0</td>\n",
       "    </tr>\n",
       "  </tbody>\n",
       "</table>\n",
       "</div>"
      ],
      "text/plain": [
       "      student                    team  team_id  absence  isClass\n",
       "117  215571.0         IT Governance 2        0     0.00      0.0\n",
       "122  542155.0         IT Governance 2        0     0.00      0.0\n",
       "127  825970.0         IT Governance 2        0     0.00      0.0\n",
       "136  543558.0  Intro til IT Sikkerhed        1    72.22      0.0\n",
       "147  613200.0         IT Governance 2        0     0.00      0.0"
      ]
     },
     "execution_count": 14,
     "metadata": {},
     "output_type": "execute_result"
    }
   ],
   "source": [
    "newdf.head()"
   ]
  },
  {
   "cell_type": "code",
   "execution_count": 15,
   "metadata": {},
   "outputs": [
    {
     "data": {
      "text/plain": [
       "<matplotlib.collections.PathCollection at 0x2cb628ea7f0>"
      ]
     },
     "execution_count": 15,
     "metadata": {},
     "output_type": "execute_result"
    },
    {
     "data": {
      "image/png": "[encoded data removed]",
      "text/plain": [
       "<Figure size 432x288 with 1 Axes>"
      ]
     },
     "metadata": {
      "needs_background": "light"
     },
     "output_type": "display_data"
    }
   ],
   "source": [
    "plt.scatter(newdf.absence,newdf.team_id)"
   ]
  },
  {
   "cell_type": "code",
   "execution_count": 16,
   "metadata": {},
   "outputs": [],
   "source": [
    "is_class_df = newdf[newdf[\"isClass\"] == 1]"
   ]
  },
  {
   "cell_type": "code",
   "execution_count": 17,
   "metadata": {},
   "outputs": [],
   "source": [
    "team_df =newdf[newdf[\"isClass\"] == 0]"
   ]
  },
  {
   "cell_type": "code",
   "execution_count": null,
   "metadata": {},
   "outputs": [],
   "source": []
  },
  {
   "cell_type": "code",
   "execution_count": 25,
   "metadata": {},
   "outputs": [
    {
     "data": {
      "text/plain": [
       "25"
      ]
     },
     "execution_count": 25,
     "metadata": {},
     "output_type": "execute_result"
    }
   ],
   "source": [
    "len(newdf['team'].unique())"
   ]
  },
  {
   "cell_type": "code",
   "execution_count": 32,
   "metadata": {},
   "outputs": [
    {
     "name": "stdout",
     "output_type": "stream",
     "text": [
      "IT Governance 2\n"
     ]
    },
    {
     "data": {
      "image/png": "[encoded data removed]",
      "text/plain": [
       "<Figure size 432x288 with 1 Axes>"
      ]
     },
     "metadata": {
      "needs_background": "light"
     },
     "output_type": "display_data"
    },
    {
     "name": "stdout",
     "output_type": "stream",
     "text": [
      "Intro til IT Sikkerhed\n"
     ]
    },
    {
     "data": {
      "image/png": "[encoded data removed]",
      "text/plain": [
       "<Figure size 432x288 with 1 Axes>"
      ]
     },
     "metadata": {
      "needs_background": "light"
     },
     "output_type": "display_data"
    },
    {
     "name": "stdout",
     "output_type": "stream",
     "text": [
      "Reverse Eng. Malware\n"
     ]
    },
    {
     "data": {
      "image/png": "[encoded data removed]",
      "text/plain": [
       "<Figure size 432x288 with 1 Axes>"
      ]
     },
     "metadata": {
      "needs_background": "light"
     },
     "output_type": "display_data"
    },
    {
     "name": "stdout",
     "output_type": "stream",
     "text": [
      "Big Data\n"
     ]
    },
    {
     "data": {
      "image/png": "[encoded data removed]",
      "text/plain": [
       "<Figure size 432x288 with 1 Axes>"
      ]
     },
     "metadata": {
      "needs_background": "light"
     },
     "output_type": "display_data"
    },
    {
     "name": "stdout",
     "output_type": "stream",
     "text": [
      "Web Development\n"
     ]
    },
    {
     "data": {
      "image/png": "[encoded data removed]",
      "text/plain": [
       "<Figure size 432x288 with 1 Axes>"
      ]
     },
     "metadata": {
      "needs_background": "light"
     },
     "output_type": "display_data"
    },
    {
     "name": "stdout",
     "output_type": "stream",
     "text": [
      "Databases\n"
     ]
    },
    {
     "data": {
      "image/png": "[encoded data removed]",
      "text/plain": [
       "<Figure size 432x288 with 1 Axes>"
      ]
     },
     "metadata": {
      "needs_background": "light"
     },
     "output_type": "display_data"
    },
    {
     "name": "stdout",
     "output_type": "stream",
     "text": [
      "SD18i\n"
     ]
    },
    {
     "data": {
      "image/png": "[encoded data removed]",
      "text/plain": [
       "<Figure size 432x288 with 1 Axes>"
      ]
     },
     "metadata": {
      "needs_background": "light"
     },
     "output_type": "display_data"
    },
    {
     "name": "stdout",
     "output_type": "stream",
     "text": [
      "DLS\n"
     ]
    },
    {
     "data": {
      "image/png": "[encoded data removed]",
      "text/plain": [
       "<Figure size 432x288 with 1 Axes>"
      ]
     },
     "metadata": {
      "needs_background": "light"
     },
     "output_type": "display_data"
    },
    {
     "name": "stdout",
     "output_type": "stream",
     "text": [
      "Data Science\n"
     ]
    },
    {
     "data": {
      "image/png": "[encoded data removed]",
      "text/plain": [
       "<Figure size 432x288 with 1 Axes>"
      ]
     },
     "metadata": {
      "needs_background": "light"
     },
     "output_type": "display_data"
    },
    {
     "name": "stdout",
     "output_type": "stream",
     "text": [
      "System Integration\n"
     ]
    },
    {
     "data": {
      "image/png": "[encoded data removed]",
      "text/plain": [
       "<Figure size 432x288 with 1 Axes>"
      ]
     },
     "metadata": {
      "needs_background": "light"
     },
     "output_type": "display_data"
    },
    {
     "name": "stdout",
     "output_type": "stream",
     "text": [
      "ITS19w1\n"
     ]
    },
    {
     "data": {
      "image/png": "[encoded data removed]",
      "text/plain": [
       "<Figure size 432x288 with 1 Axes>"
      ]
     },
     "metadata": {
      "needs_background": "light"
     },
     "output_type": "display_data"
    },
    {
     "name": "stdout",
     "output_type": "stream",
     "text": [
      "Net. and Com. security\n"
     ]
    },
    {
     "data": {
      "image/png": "[encoded data removed]",
      "text/plain": [
       "<Figure size 432x288 with 1 Axes>"
      ]
     },
     "metadata": {
      "needs_background": "light"
     },
     "output_type": "display_data"
    },
    {
     "name": "stdout",
     "output_type": "stream",
     "text": [
      "Web and Soft Electives\n"
     ]
    },
    {
     "data": {
      "image/png": "[encoded data removed]",
      "text/plain": [
       "<Figure size 432x288 with 1 Axes>"
      ]
     },
     "metadata": {
      "needs_background": "light"
     },
     "output_type": "display_data"
    },
    {
     "name": "stdout",
     "output_type": "stream",
     "text": [
      "System Security\n"
     ]
    },
    {
     "data": {
      "image/png": "[encoded data removed]",
      "text/plain": [
       "<Figure size 432x288 with 1 Axes>"
      ]
     },
     "metadata": {
      "needs_background": "light"
     },
     "output_type": "display_data"
    },
    {
     "name": "stdout",
     "output_type": "stream",
     "text": [
      "SD19w1\n"
     ]
    },
    {
     "data": {
      "image/png": "[encoded data removed]",
      "text/plain": [
       "<Figure size 432x288 with 1 Axes>"
      ]
     },
     "metadata": {
      "needs_background": "light"
     },
     "output_type": "display_data"
    },
    {
     "name": "stdout",
     "output_type": "stream",
     "text": [
      "Test\n"
     ]
    },
    {
     "data": {
      "image/png": "[encoded data removed]",
      "text/plain": [
       "<Figure size 432x288 with 1 Axes>"
      ]
     },
     "metadata": {
      "needs_background": "light"
     },
     "output_type": "display_data"
    },
    {
     "name": "stdout",
     "output_type": "stream",
     "text": [
      "ITS18a\n"
     ]
    },
    {
     "data": {
      "image/png": "[encoded data removed]",
      "text/plain": [
       "<Figure size 432x288 with 1 Axes>"
      ]
     },
     "metadata": {
      "needs_background": "light"
     },
     "output_type": "display_data"
    },
    {
     "name": "stdout",
     "output_type": "stream",
     "text": [
      "Security Engineering\n"
     ]
    },
    {
     "data": {
      "image/png": "[encoded data removed]",
      "text/plain": [
       "<Figure size 432x288 with 1 Axes>"
      ]
     },
     "metadata": {
      "needs_background": "light"
     },
     "output_type": "display_data"
    },
    {
     "name": "stdout",
     "output_type": "stream",
     "text": [
      "Angular\n"
     ]
    },
    {
     "data": {
      "image/png": "[encoded data removed]",
      "text/plain": [
       "<Figure size 432x288 with 1 Axes>"
      ]
     },
     "metadata": {
      "needs_background": "light"
     },
     "output_type": "display_data"
    },
    {
     "name": "stdout",
     "output_type": "stream",
     "text": [
      "Web Security\n"
     ]
    },
    {
     "data": {
      "image/png": "[encoded data removed]",
      "text/plain": [
       "<Figure size 432x288 with 1 Axes>"
      ]
     },
     "metadata": {
      "needs_background": "light"
     },
     "output_type": "display_data"
    },
    {
     "name": "stdout",
     "output_type": "stream",
     "text": [
      "Web19w1\n"
     ]
    },
    {
     "data": {
      "image/png": "[encoded data removed]",
      "text/plain": [
       "<Figure size 432x288 with 1 Axes>"
      ]
     },
     "metadata": {
      "needs_background": "light"
     },
     "output_type": "display_data"
    },
    {
     "name": "stdout",
     "output_type": "stream",
     "text": [
      "Interface Design\n"
     ]
    },
    {
     "data": {
      "image/png": "[encoded data removed]",
      "text/plain": [
       "<Figure size 432x288 with 1 Axes>"
      ]
     },
     "metadata": {
      "needs_background": "light"
     },
     "output_type": "display_data"
    },
    {
     "name": "stdout",
     "output_type": "stream",
     "text": [
      "Security for mobile devices\n"
     ]
    },
    {
     "data": {
      "image/png": "[encoded data removed]",
      "text/plain": [
       "<Figure size 432x288 with 1 Axes>"
      ]
     },
     "metadata": {
      "needs_background": "light"
     },
     "output_type": "display_data"
    },
    {
     "name": "stdout",
     "output_type": "stream",
     "text": [
      "Software Design Patterns\n"
     ]
    },
    {
     "data": {
      "image/png": "[encoded data removed]",
      "text/plain": [
       "<Figure size 432x288 with 1 Axes>"
      ]
     },
     "metadata": {
      "needs_background": "light"
     },
     "output_type": "display_data"
    },
    {
     "name": "stdout",
     "output_type": "stream",
     "text": [
      "Quantum Computing\n"
     ]
    },
    {
     "data": {
      "image/png": "[encoded data removed]",
      "text/plain": [
       "<Figure size 432x288 with 1 Axes>"
      ]
     },
     "metadata": {
      "needs_background": "light"
     },
     "output_type": "display_data"
    }
   ],
   "source": [
    "for x in range(len(newdf['team'].unique())):\n",
    "\n",
    "    tmpdf=newdf[newdf[\"team_id\"] == x]\n",
    "    print(team_id[x])\n",
    "    plt.scatter(tmpdf.absence,tmpdf.student)\n",
    "    plt.xlabel('absence')\n",
    "    plt.ylabel('student')\n",
    "    plt.show()\n",
    "    "
   ]
  },
  {
   "cell_type": "code",
   "execution_count": 33,
   "metadata": {},
   "outputs": [
    {
     "name": "stdout",
     "output_type": "stream",
     "text": [
      "IT Governance 2\n"
     ]
    },
    {
     "data": {
      "image/png": "[encoded data removed]",
      "text/plain": [
       "<Figure size 432x288 with 1 Axes>"
      ]
     },
     "metadata": {
      "needs_background": "light"
     },
     "output_type": "display_data"
    },
    {
     "name": "stdout",
     "output_type": "stream",
     "text": [
      "Intro til IT Sikkerhed\n"
     ]
    },
    {
     "data": {
      "image/png": "[encoded data removed]",
      "text/plain": [
       "<Figure size 432x288 with 1 Axes>"
      ]
     },
     "metadata": {
      "needs_background": "light"
     },
     "output_type": "display_data"
    },
    {
     "name": "stdout",
     "output_type": "stream",
     "text": [
      "Reverse Eng. Malware\n"
     ]
    },
    {
     "data": {
      "image/png": "[encoded data removed]",
      "text/plain": [
       "<Figure size 432x288 with 1 Axes>"
      ]
     },
     "metadata": {
      "needs_background": "light"
     },
     "output_type": "display_data"
    },
    {
     "name": "stdout",
     "output_type": "stream",
     "text": [
      "Big Data\n"
     ]
    },
    {
     "data": {
      "image/png": "[encoded data removed]",
      "text/plain": [
       "<Figure size 432x288 with 1 Axes>"
      ]
     },
     "metadata": {
      "needs_background": "light"
     },
     "output_type": "display_data"
    },
    {
     "name": "stdout",
     "output_type": "stream",
     "text": [
      "Web Development\n"
     ]
    },
    {
     "data": {
      "image/png": "[encoded data removed]",
      "text/plain": [
       "<Figure size 432x288 with 1 Axes>"
      ]
     },
     "metadata": {
      "needs_background": "light"
     },
     "output_type": "display_data"
    },
    {
     "name": "stdout",
     "output_type": "stream",
     "text": [
      "Databases\n"
     ]
    },
    {
     "data": {
      "image/png": "[encoded data removed]",
      "text/plain": [
       "<Figure size 432x288 with 1 Axes>"
      ]
     },
     "metadata": {
      "needs_background": "light"
     },
     "output_type": "display_data"
    },
    {
     "name": "stdout",
     "output_type": "stream",
     "text": [
      "SD18i\n"
     ]
    },
    {
     "data": {
      "image/png": "[encoded data removed]",
      "text/plain": [
       "<Figure size 432x288 with 1 Axes>"
      ]
     },
     "metadata": {
      "needs_background": "light"
     },
     "output_type": "display_data"
    },
    {
     "name": "stdout",
     "output_type": "stream",
     "text": [
      "DLS\n"
     ]
    },
    {
     "data": {
      "image/png": "[encoded data removed]",
      "text/plain": [
       "<Figure size 432x288 with 1 Axes>"
      ]
     },
     "metadata": {
      "needs_background": "light"
     },
     "output_type": "display_data"
    },
    {
     "name": "stdout",
     "output_type": "stream",
     "text": [
      "Data Science\n"
     ]
    },
    {
     "data": {
      "image/png": "[encoded data removed]",
      "text/plain": [
       "<Figure size 432x288 with 1 Axes>"
      ]
     },
     "metadata": {
      "needs_background": "light"
     },
     "output_type": "display_data"
    },
    {
     "name": "stdout",
     "output_type": "stream",
     "text": [
      "System Integration\n"
     ]
    },
    {
     "data": {
      "image/png": "[encoded data removed]",
      "text/plain": [
       "<Figure size 432x288 with 1 Axes>"
      ]
     },
     "metadata": {
      "needs_background": "light"
     },
     "output_type": "display_data"
    },
    {
     "name": "stdout",
     "output_type": "stream",
     "text": [
      "ITS19w1\n"
     ]
    },
    {
     "data": {
      "image/png": "[encoded data removed]",
      "text/plain": [
       "<Figure size 432x288 with 1 Axes>"
      ]
     },
     "metadata": {
      "needs_background": "light"
     },
     "output_type": "display_data"
    },
    {
     "name": "stdout",
     "output_type": "stream",
     "text": [
      "Net. and Com. security\n"
     ]
    },
    {
     "data": {
      "image/png": "[encoded data removed]",
      "text/plain": [
       "<Figure size 432x288 with 1 Axes>"
      ]
     },
     "metadata": {
      "needs_background": "light"
     },
     "output_type": "display_data"
    },
    {
     "name": "stdout",
     "output_type": "stream",
     "text": [
      "Web and Soft Electives\n"
     ]
    },
    {
     "data": {
      "image/png": "[encoded data removed]",
      "text/plain": [
       "<Figure size 432x288 with 1 Axes>"
      ]
     },
     "metadata": {
      "needs_background": "light"
     },
     "output_type": "display_data"
    },
    {
     "name": "stdout",
     "output_type": "stream",
     "text": [
      "System Security\n"
     ]
    },
    {
     "data": {
      "image/png": "[encoded data removed]",
      "text/plain": [
       "<Figure size 432x288 with 1 Axes>"
      ]
     },
     "metadata": {
      "needs_background": "light"
     },
     "output_type": "display_data"
    },
    {
     "name": "stdout",
     "output_type": "stream",
     "text": [
      "SD19w1\n"
     ]
    },
    {
     "data": {
      "image/png": "[encoded data removed]",
      "text/plain": [
       "<Figure size 432x288 with 1 Axes>"
      ]
     },
     "metadata": {
      "needs_background": "light"
     },
     "output_type": "display_data"
    },
    {
     "name": "stdout",
     "output_type": "stream",
     "text": [
      "Test\n"
     ]
    },
    {
     "data": {
      "image/png": "[encoded data removed]",
      "text/plain": [
       "<Figure size 432x288 with 1 Axes>"
      ]
     },
     "metadata": {
      "needs_background": "light"
     },
     "output_type": "display_data"
    },
    {
     "name": "stdout",
     "output_type": "stream",
     "text": [
      "ITS18a\n"
     ]
    },
    {
     "data": {
      "image/png": "[encoded data removed]",
      "text/plain": [
       "<Figure size 432x288 with 1 Axes>"
      ]
     },
     "metadata": {
      "needs_background": "light"
     },
     "output_type": "display_data"
    },
    {
     "name": "stdout",
     "output_type": "stream",
     "text": [
      "Security Engineering\n"
     ]
    },
    {
     "data": {
      "image/png": "[encoded data removed]",
      "text/plain": [
       "<Figure size 432x288 with 1 Axes>"
      ]
     },
     "metadata": {
      "needs_background": "light"
     },
     "output_type": "display_data"
    },
    {
     "name": "stdout",
     "output_type": "stream",
     "text": [
      "Angular\n"
     ]
    },
    {
     "data": {
      "image/png": "[encoded data removed]",
      "text/plain": [
       "<Figure size 432x288 with 1 Axes>"
      ]
     },
     "metadata": {
      "needs_background": "light"
     },
     "output_type": "display_data"
    }
   ],
   "source": [
    "for x in range(len(team_df['team'].unique())):\n",
    "\n",
    "    tmpdf=team_df[team_df[\"team_id\"] == x]\n",
    "    print(team_id[x])\n",
    "    plt.scatter(tmpdf.absence,tmpdf.student)\n",
    "    plt.xlabel('absence')\n",
    "    plt.ylabel('student')\n",
    "    plt.show()\n",
    "    "
   ]
  },
  {
   "cell_type": "code",
   "execution_count": 34,
   "metadata": {},
   "outputs": [
    {
     "data": {
      "text/html": [
       "<div>\n",
       "<style scoped>\n",
       "    .dataframe tbody tr th:only-of-type {\n",
       "        vertical-align: middle;\n",
       "    }\n",
       "\n",
       "    .dataframe tbody tr th {\n",
       "        vertical-align: top;\n",
       "    }\n",
       "\n",
       "    .dataframe thead th {\n",
       "        text-align: right;\n",
       "    }\n",
       "</style>\n",
       "<table border=\"1\" class=\"dataframe\">\n",
       "  <thead>\n",
       "    <tr style=\"text-align: right;\">\n",
       "      <th></th>\n",
       "      <th>student</th>\n",
       "      <th>team</th>\n",
       "      <th>team_id</th>\n",
       "      <th>absence</th>\n",
       "      <th>isClass</th>\n",
       "    </tr>\n",
       "  </thead>\n",
       "  <tbody>\n",
       "    <tr>\n",
       "      <th>117</th>\n",
       "      <td>215571.0</td>\n",
       "      <td>IT Governance 2</td>\n",
       "      <td>0</td>\n",
       "      <td>0.00</td>\n",
       "      <td>0.0</td>\n",
       "    </tr>\n",
       "    <tr>\n",
       "      <th>122</th>\n",
       "      <td>542155.0</td>\n",
       "      <td>IT Governance 2</td>\n",
       "      <td>0</td>\n",
       "      <td>0.00</td>\n",
       "      <td>0.0</td>\n",
       "    </tr>\n",
       "    <tr>\n",
       "      <th>127</th>\n",
       "      <td>825970.0</td>\n",
       "      <td>IT Governance 2</td>\n",
       "      <td>0</td>\n",
       "      <td>0.00</td>\n",
       "      <td>0.0</td>\n",
       "    </tr>\n",
       "    <tr>\n",
       "      <th>136</th>\n",
       "      <td>543558.0</td>\n",
       "      <td>Intro til IT Sikkerhed</td>\n",
       "      <td>1</td>\n",
       "      <td>72.22</td>\n",
       "      <td>0.0</td>\n",
       "    </tr>\n",
       "    <tr>\n",
       "      <th>147</th>\n",
       "      <td>613200.0</td>\n",
       "      <td>IT Governance 2</td>\n",
       "      <td>0</td>\n",
       "      <td>0.00</td>\n",
       "      <td>0.0</td>\n",
       "    </tr>\n",
       "    <tr>\n",
       "      <th>152</th>\n",
       "      <td>615329.0</td>\n",
       "      <td>IT Governance 2</td>\n",
       "      <td>0</td>\n",
       "      <td>0.00</td>\n",
       "      <td>0.0</td>\n",
       "    </tr>\n",
       "    <tr>\n",
       "      <th>154</th>\n",
       "      <td>615329.0</td>\n",
       "      <td>Reverse Eng. Malware</td>\n",
       "      <td>2</td>\n",
       "      <td>68.75</td>\n",
       "      <td>0.0</td>\n",
       "    </tr>\n",
       "    <tr>\n",
       "      <th>156</th>\n",
       "      <td>699025.0</td>\n",
       "      <td>Big Data</td>\n",
       "      <td>3</td>\n",
       "      <td>63.64</td>\n",
       "      <td>0.0</td>\n",
       "    </tr>\n",
       "    <tr>\n",
       "      <th>161</th>\n",
       "      <td>751804.0</td>\n",
       "      <td>Web Development</td>\n",
       "      <td>4</td>\n",
       "      <td>55.56</td>\n",
       "      <td>0.0</td>\n",
       "    </tr>\n",
       "    <tr>\n",
       "      <th>166</th>\n",
       "      <td>328555.0</td>\n",
       "      <td>Databases</td>\n",
       "      <td>5</td>\n",
       "      <td>50.00</td>\n",
       "      <td>0.0</td>\n",
       "    </tr>\n",
       "    <tr>\n",
       "      <th>172</th>\n",
       "      <td>723459.0</td>\n",
       "      <td>IT Governance 2</td>\n",
       "      <td>0</td>\n",
       "      <td>0.00</td>\n",
       "      <td>0.0</td>\n",
       "    </tr>\n",
       "    <tr>\n",
       "      <th>174</th>\n",
       "      <td>723459.0</td>\n",
       "      <td>Reverse Eng. Malware</td>\n",
       "      <td>2</td>\n",
       "      <td>50.00</td>\n",
       "      <td>0.0</td>\n",
       "    </tr>\n",
       "    <tr>\n",
       "      <th>176</th>\n",
       "      <td>396493.0</td>\n",
       "      <td>Intro til IT Sikkerhed</td>\n",
       "      <td>1</td>\n",
       "      <td>61.11</td>\n",
       "      <td>0.0</td>\n",
       "    </tr>\n",
       "    <tr>\n",
       "      <th>181</th>\n",
       "      <td>635774.0</td>\n",
       "      <td>DLS</td>\n",
       "      <td>7</td>\n",
       "      <td>68.42</td>\n",
       "      <td>0.0</td>\n",
       "    </tr>\n",
       "    <tr>\n",
       "      <th>183</th>\n",
       "      <td>635774.0</td>\n",
       "      <td>Data Science</td>\n",
       "      <td>8</td>\n",
       "      <td>75.00</td>\n",
       "      <td>0.0</td>\n",
       "    </tr>\n",
       "    <tr>\n",
       "      <th>186</th>\n",
       "      <td>646053.0</td>\n",
       "      <td>DLS</td>\n",
       "      <td>7</td>\n",
       "      <td>68.42</td>\n",
       "      <td>0.0</td>\n",
       "    </tr>\n",
       "    <tr>\n",
       "      <th>187</th>\n",
       "      <td>646053.0</td>\n",
       "      <td>System Integration</td>\n",
       "      <td>9</td>\n",
       "      <td>0.00</td>\n",
       "      <td>0.0</td>\n",
       "    </tr>\n",
       "    <tr>\n",
       "      <th>191</th>\n",
       "      <td>879390.0</td>\n",
       "      <td>Intro til IT Sikkerhed</td>\n",
       "      <td>1</td>\n",
       "      <td>55.56</td>\n",
       "      <td>0.0</td>\n",
       "    </tr>\n",
       "    <tr>\n",
       "      <th>192</th>\n",
       "      <td>879390.0</td>\n",
       "      <td>Net. and Com. security</td>\n",
       "      <td>11</td>\n",
       "      <td>75.00</td>\n",
       "      <td>0.0</td>\n",
       "    </tr>\n",
       "    <tr>\n",
       "      <th>196</th>\n",
       "      <td>666991.0</td>\n",
       "      <td>Big Data</td>\n",
       "      <td>3</td>\n",
       "      <td>18.18</td>\n",
       "      <td>0.0</td>\n",
       "    </tr>\n",
       "    <tr>\n",
       "      <th>197</th>\n",
       "      <td>666991.0</td>\n",
       "      <td>Databases</td>\n",
       "      <td>5</td>\n",
       "      <td>50.00</td>\n",
       "      <td>0.0</td>\n",
       "    </tr>\n",
       "    <tr>\n",
       "      <th>201</th>\n",
       "      <td>397345.0</td>\n",
       "      <td>Intro til IT Sikkerhed</td>\n",
       "      <td>1</td>\n",
       "      <td>61.11</td>\n",
       "      <td>0.0</td>\n",
       "    </tr>\n",
       "    <tr>\n",
       "      <th>203</th>\n",
       "      <td>397345.0</td>\n",
       "      <td>System Security</td>\n",
       "      <td>13</td>\n",
       "      <td>55.56</td>\n",
       "      <td>0.0</td>\n",
       "    </tr>\n",
       "    <tr>\n",
       "      <th>206</th>\n",
       "      <td>179935.0</td>\n",
       "      <td>Intro til IT Sikkerhed</td>\n",
       "      <td>1</td>\n",
       "      <td>61.11</td>\n",
       "      <td>0.0</td>\n",
       "    </tr>\n",
       "    <tr>\n",
       "      <th>208</th>\n",
       "      <td>179935.0</td>\n",
       "      <td>System Security</td>\n",
       "      <td>13</td>\n",
       "      <td>66.67</td>\n",
       "      <td>0.0</td>\n",
       "    </tr>\n",
       "    <tr>\n",
       "      <th>211</th>\n",
       "      <td>263323.0</td>\n",
       "      <td>Databases</td>\n",
       "      <td>5</td>\n",
       "      <td>50.00</td>\n",
       "      <td>0.0</td>\n",
       "    </tr>\n",
       "    <tr>\n",
       "      <th>212</th>\n",
       "      <td>263323.0</td>\n",
       "      <td>Test</td>\n",
       "      <td>15</td>\n",
       "      <td>68.97</td>\n",
       "      <td>0.0</td>\n",
       "    </tr>\n",
       "    <tr>\n",
       "      <th>217</th>\n",
       "      <td>135632.0</td>\n",
       "      <td>Net. and Com. security</td>\n",
       "      <td>11</td>\n",
       "      <td>50.00</td>\n",
       "      <td>0.0</td>\n",
       "    </tr>\n",
       "    <tr>\n",
       "      <th>218</th>\n",
       "      <td>135632.0</td>\n",
       "      <td>System Security</td>\n",
       "      <td>13</td>\n",
       "      <td>55.56</td>\n",
       "      <td>0.0</td>\n",
       "    </tr>\n",
       "    <tr>\n",
       "      <th>222</th>\n",
       "      <td>858209.0</td>\n",
       "      <td>IT Governance 2</td>\n",
       "      <td>0</td>\n",
       "      <td>0.00</td>\n",
       "      <td>0.0</td>\n",
       "    </tr>\n",
       "    <tr>\n",
       "      <th>...</th>\n",
       "      <td>...</td>\n",
       "      <td>...</td>\n",
       "      <td>...</td>\n",
       "      <td>...</td>\n",
       "      <td>...</td>\n",
       "    </tr>\n",
       "    <tr>\n",
       "      <th>1072</th>\n",
       "      <td>586771.0</td>\n",
       "      <td>Web Security</td>\n",
       "      <td>19</td>\n",
       "      <td>0.00</td>\n",
       "      <td>0.0</td>\n",
       "    </tr>\n",
       "    <tr>\n",
       "      <th>1076</th>\n",
       "      <td>491038.0</td>\n",
       "      <td>DLS</td>\n",
       "      <td>7</td>\n",
       "      <td>0.00</td>\n",
       "      <td>0.0</td>\n",
       "    </tr>\n",
       "    <tr>\n",
       "      <th>1077</th>\n",
       "      <td>491038.0</td>\n",
       "      <td>System Integration</td>\n",
       "      <td>9</td>\n",
       "      <td>0.00</td>\n",
       "      <td>0.0</td>\n",
       "    </tr>\n",
       "    <tr>\n",
       "      <th>1078</th>\n",
       "      <td>491038.0</td>\n",
       "      <td>Data Science</td>\n",
       "      <td>8</td>\n",
       "      <td>0.00</td>\n",
       "      <td>0.0</td>\n",
       "    </tr>\n",
       "    <tr>\n",
       "      <th>1081</th>\n",
       "      <td>700477.0</td>\n",
       "      <td>Security for mobile devices</td>\n",
       "      <td>22</td>\n",
       "      <td>0.00</td>\n",
       "      <td>0.0</td>\n",
       "    </tr>\n",
       "    <tr>\n",
       "      <th>1082</th>\n",
       "      <td>700477.0</td>\n",
       "      <td>IT Governance 2</td>\n",
       "      <td>0</td>\n",
       "      <td>0.00</td>\n",
       "      <td>0.0</td>\n",
       "    </tr>\n",
       "    <tr>\n",
       "      <th>1083</th>\n",
       "      <td>700477.0</td>\n",
       "      <td>Security Engineering</td>\n",
       "      <td>17</td>\n",
       "      <td>0.00</td>\n",
       "      <td>0.0</td>\n",
       "    </tr>\n",
       "    <tr>\n",
       "      <th>1084</th>\n",
       "      <td>700477.0</td>\n",
       "      <td>Reverse Eng. Malware</td>\n",
       "      <td>2</td>\n",
       "      <td>0.00</td>\n",
       "      <td>0.0</td>\n",
       "    </tr>\n",
       "    <tr>\n",
       "      <th>1086</th>\n",
       "      <td>223338.0</td>\n",
       "      <td>Security for mobile devices</td>\n",
       "      <td>22</td>\n",
       "      <td>0.00</td>\n",
       "      <td>0.0</td>\n",
       "    </tr>\n",
       "    <tr>\n",
       "      <th>1087</th>\n",
       "      <td>223338.0</td>\n",
       "      <td>IT Governance 2</td>\n",
       "      <td>0</td>\n",
       "      <td>0.00</td>\n",
       "      <td>0.0</td>\n",
       "    </tr>\n",
       "    <tr>\n",
       "      <th>1088</th>\n",
       "      <td>223338.0</td>\n",
       "      <td>Security Engineering</td>\n",
       "      <td>17</td>\n",
       "      <td>0.00</td>\n",
       "      <td>0.0</td>\n",
       "    </tr>\n",
       "    <tr>\n",
       "      <th>1089</th>\n",
       "      <td>223338.0</td>\n",
       "      <td>Reverse Eng. Malware</td>\n",
       "      <td>2</td>\n",
       "      <td>0.00</td>\n",
       "      <td>0.0</td>\n",
       "    </tr>\n",
       "    <tr>\n",
       "      <th>1091</th>\n",
       "      <td>293438.0</td>\n",
       "      <td>Intro til IT Sikkerhed</td>\n",
       "      <td>1</td>\n",
       "      <td>0.00</td>\n",
       "      <td>0.0</td>\n",
       "    </tr>\n",
       "    <tr>\n",
       "      <th>1092</th>\n",
       "      <td>293438.0</td>\n",
       "      <td>Net. and Com. security</td>\n",
       "      <td>11</td>\n",
       "      <td>0.00</td>\n",
       "      <td>0.0</td>\n",
       "    </tr>\n",
       "    <tr>\n",
       "      <th>1093</th>\n",
       "      <td>293438.0</td>\n",
       "      <td>System Security</td>\n",
       "      <td>13</td>\n",
       "      <td>0.00</td>\n",
       "      <td>0.0</td>\n",
       "    </tr>\n",
       "    <tr>\n",
       "      <th>1096</th>\n",
       "      <td>803561.0</td>\n",
       "      <td>Web Development</td>\n",
       "      <td>4</td>\n",
       "      <td>0.00</td>\n",
       "      <td>0.0</td>\n",
       "    </tr>\n",
       "    <tr>\n",
       "      <th>1097</th>\n",
       "      <td>803561.0</td>\n",
       "      <td>Interface Design</td>\n",
       "      <td>21</td>\n",
       "      <td>0.00</td>\n",
       "      <td>0.0</td>\n",
       "    </tr>\n",
       "    <tr>\n",
       "      <th>1098</th>\n",
       "      <td>803561.0</td>\n",
       "      <td>Databases</td>\n",
       "      <td>5</td>\n",
       "      <td>0.00</td>\n",
       "      <td>0.0</td>\n",
       "    </tr>\n",
       "    <tr>\n",
       "      <th>1101</th>\n",
       "      <td>976720.0</td>\n",
       "      <td>Web Development</td>\n",
       "      <td>4</td>\n",
       "      <td>0.00</td>\n",
       "      <td>0.0</td>\n",
       "    </tr>\n",
       "    <tr>\n",
       "      <th>1102</th>\n",
       "      <td>976720.0</td>\n",
       "      <td>Interface Design</td>\n",
       "      <td>21</td>\n",
       "      <td>0.00</td>\n",
       "      <td>0.0</td>\n",
       "    </tr>\n",
       "    <tr>\n",
       "      <th>1103</th>\n",
       "      <td>976720.0</td>\n",
       "      <td>Databases</td>\n",
       "      <td>5</td>\n",
       "      <td>0.00</td>\n",
       "      <td>0.0</td>\n",
       "    </tr>\n",
       "    <tr>\n",
       "      <th>1106</th>\n",
       "      <td>172012.0</td>\n",
       "      <td>Web Development</td>\n",
       "      <td>4</td>\n",
       "      <td>0.00</td>\n",
       "      <td>0.0</td>\n",
       "    </tr>\n",
       "    <tr>\n",
       "      <th>1107</th>\n",
       "      <td>172012.0</td>\n",
       "      <td>Interface Design</td>\n",
       "      <td>21</td>\n",
       "      <td>0.00</td>\n",
       "      <td>0.0</td>\n",
       "    </tr>\n",
       "    <tr>\n",
       "      <th>1108</th>\n",
       "      <td>172012.0</td>\n",
       "      <td>Databases</td>\n",
       "      <td>5</td>\n",
       "      <td>0.00</td>\n",
       "      <td>0.0</td>\n",
       "    </tr>\n",
       "    <tr>\n",
       "      <th>1111</th>\n",
       "      <td>491703.0</td>\n",
       "      <td>Web Development</td>\n",
       "      <td>4</td>\n",
       "      <td>0.00</td>\n",
       "      <td>0.0</td>\n",
       "    </tr>\n",
       "    <tr>\n",
       "      <th>1112</th>\n",
       "      <td>491703.0</td>\n",
       "      <td>Interface Design</td>\n",
       "      <td>21</td>\n",
       "      <td>0.00</td>\n",
       "      <td>0.0</td>\n",
       "    </tr>\n",
       "    <tr>\n",
       "      <th>1113</th>\n",
       "      <td>491703.0</td>\n",
       "      <td>Databases</td>\n",
       "      <td>5</td>\n",
       "      <td>0.00</td>\n",
       "      <td>0.0</td>\n",
       "    </tr>\n",
       "    <tr>\n",
       "      <th>1116</th>\n",
       "      <td>532264.0</td>\n",
       "      <td>Web Development</td>\n",
       "      <td>4</td>\n",
       "      <td>0.00</td>\n",
       "      <td>0.0</td>\n",
       "    </tr>\n",
       "    <tr>\n",
       "      <th>1117</th>\n",
       "      <td>532264.0</td>\n",
       "      <td>Interface Design</td>\n",
       "      <td>21</td>\n",
       "      <td>0.00</td>\n",
       "      <td>0.0</td>\n",
       "    </tr>\n",
       "    <tr>\n",
       "      <th>1118</th>\n",
       "      <td>532264.0</td>\n",
       "      <td>Databases</td>\n",
       "      <td>5</td>\n",
       "      <td>0.00</td>\n",
       "      <td>0.0</td>\n",
       "    </tr>\n",
       "  </tbody>\n",
       "</table>\n",
       "<p>534 rows × 5 columns</p>\n",
       "</div>"
      ],
      "text/plain": [
       "       student                         team  team_id  absence  isClass\n",
       "117   215571.0              IT Governance 2        0     0.00      0.0\n",
       "122   542155.0              IT Governance 2        0     0.00      0.0\n",
       "127   825970.0              IT Governance 2        0     0.00      0.0\n",
       "136   543558.0       Intro til IT Sikkerhed        1    72.22      0.0\n",
       "147   613200.0              IT Governance 2        0     0.00      0.0\n",
       "152   615329.0              IT Governance 2        0     0.00      0.0\n",
       "154   615329.0         Reverse Eng. Malware        2    68.75      0.0\n",
       "156   699025.0                     Big Data        3    63.64      0.0\n",
       "161   751804.0              Web Development        4    55.56      0.0\n",
       "166   328555.0                    Databases        5    50.00      0.0\n",
       "172   723459.0              IT Governance 2        0     0.00      0.0\n",
       "174   723459.0         Reverse Eng. Malware        2    50.00      0.0\n",
       "176   396493.0       Intro til IT Sikkerhed        1    61.11      0.0\n",
       "181   635774.0                          DLS        7    68.42      0.0\n",
       "183   635774.0                 Data Science        8    75.00      0.0\n",
       "186   646053.0                          DLS        7    68.42      0.0\n",
       "187   646053.0           System Integration        9     0.00      0.0\n",
       "191   879390.0       Intro til IT Sikkerhed        1    55.56      0.0\n",
       "192   879390.0       Net. and Com. security       11    75.00      0.0\n",
       "196   666991.0                     Big Data        3    18.18      0.0\n",
       "197   666991.0                    Databases        5    50.00      0.0\n",
       "201   397345.0       Intro til IT Sikkerhed        1    61.11      0.0\n",
       "203   397345.0              System Security       13    55.56      0.0\n",
       "206   179935.0       Intro til IT Sikkerhed        1    61.11      0.0\n",
       "208   179935.0              System Security       13    66.67      0.0\n",
       "211   263323.0                    Databases        5    50.00      0.0\n",
       "212   263323.0                         Test       15    68.97      0.0\n",
       "217   135632.0       Net. and Com. security       11    50.00      0.0\n",
       "218   135632.0              System Security       13    55.56      0.0\n",
       "222   858209.0              IT Governance 2        0     0.00      0.0\n",
       "...        ...                          ...      ...      ...      ...\n",
       "1072  586771.0                 Web Security       19     0.00      0.0\n",
       "1076  491038.0                          DLS        7     0.00      0.0\n",
       "1077  491038.0           System Integration        9     0.00      0.0\n",
       "1078  491038.0                 Data Science        8     0.00      0.0\n",
       "1081  700477.0  Security for mobile devices       22     0.00      0.0\n",
       "1082  700477.0              IT Governance 2        0     0.00      0.0\n",
       "1083  700477.0         Security Engineering       17     0.00      0.0\n",
       "1084  700477.0         Reverse Eng. Malware        2     0.00      0.0\n",
       "1086  223338.0  Security for mobile devices       22     0.00      0.0\n",
       "1087  223338.0              IT Governance 2        0     0.00      0.0\n",
       "1088  223338.0         Security Engineering       17     0.00      0.0\n",
       "1089  223338.0         Reverse Eng. Malware        2     0.00      0.0\n",
       "1091  293438.0       Intro til IT Sikkerhed        1     0.00      0.0\n",
       "1092  293438.0       Net. and Com. security       11     0.00      0.0\n",
       "1093  293438.0              System Security       13     0.00      0.0\n",
       "1096  803561.0              Web Development        4     0.00      0.0\n",
       "1097  803561.0             Interface Design       21     0.00      0.0\n",
       "1098  803561.0                    Databases        5     0.00      0.0\n",
       "1101  976720.0              Web Development        4     0.00      0.0\n",
       "1102  976720.0             Interface Design       21     0.00      0.0\n",
       "1103  976720.0                    Databases        5     0.00      0.0\n",
       "1106  172012.0              Web Development        4     0.00      0.0\n",
       "1107  172012.0             Interface Design       21     0.00      0.0\n",
       "1108  172012.0                    Databases        5     0.00      0.0\n",
       "1111  491703.0              Web Development        4     0.00      0.0\n",
       "1112  491703.0             Interface Design       21     0.00      0.0\n",
       "1113  491703.0                    Databases        5     0.00      0.0\n",
       "1116  532264.0              Web Development        4     0.00      0.0\n",
       "1117  532264.0             Interface Design       21     0.00      0.0\n",
       "1118  532264.0                    Databases        5     0.00      0.0\n",
       "\n",
       "[534 rows x 5 columns]"
      ]
     },
     "execution_count": 34,
     "metadata": {},
     "output_type": "execute_result"
    }
   ],
   "source": [
    "team_df"
   ]
  },
  {
   "cell_type": "code",
   "execution_count": null,
   "metadata": {},
   "outputs": [],
   "source": []
  }
 ],
 "metadata": {
  "kernelspec": {
   "display_name": "Python 3",
   "language": "python",
   "name": "python3"
  },
  "language_info": {
   "codemirror_mode": {
    "name": "ipython",
    "version": 3
   },
   "file_extension": ".py",
   "mimetype": "text/x-python",
   "name": "python",
   "nbconvert_exporter": "python",
   "pygments_lexer": "ipython3",
   "version": "3.7.1"
  }
 },
 "nbformat": 4,
 "nbformat_minor": 2
}

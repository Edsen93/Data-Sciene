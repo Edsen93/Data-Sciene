{
 "cells": [
  {
   "cell_type": "markdown",
   "metadata": {},
   "source": [
    "# Stragi for analyse\n",
    "Back at 14:00"
   ]
  },
  {
   "cell_type": "code",
   "execution_count": 492,
   "metadata": {},
   "outputs": [],
   "source": [
    "import pandas as pd\n",
    "import numpy as np\n",
    "import math\n"
   ]
  },
  {
   "cell_type": "code",
   "execution_count": 493,
   "metadata": {},
   "outputs": [],
   "source": [
    "df = pd.read_csv(\".\\stud-stat-anonymous.csv\")"
   ]
  },
  {
   "cell_type": "code",
   "execution_count": 494,
   "metadata": {
    "scrolled": true
   },
   "outputs": [
    {
     "name": "stdout",
     "output_type": "stream",
     "text": [
      "<class 'pandas.core.frame.DataFrame'>\n",
      "RangeIndex: 223 entries, 0 to 222\n",
      "Data columns (total 12 columns):\n",
      "Unnamed: 0       223 non-null int64\n",
      "Id               223 non-null int64\n",
      "Samlet fravær    223 non-null object\n",
      "Klasse           223 non-null object\n",
      "Fag              223 non-null object\n",
      "Fravær           223 non-null object\n",
      "Fag.1            223 non-null object\n",
      "Fravær.1         223 non-null object\n",
      "Fag.2            168 non-null object\n",
      "Fravær.2         168 non-null object\n",
      "Fag.3            29 non-null object\n",
      "Fravær.3         29 non-null object\n",
      "dtypes: int64(2), object(10)\n",
      "memory usage: 21.0+ KB\n"
     ]
    }
   ],
   "source": [
    "df.info()"
   ]
  },
  {
   "cell_type": "markdown",
   "metadata": {},
   "source": [
    "Need to converet obejcts to int or float"
   ]
  },
  {
   "cell_type": "code",
   "execution_count": 495,
   "metadata": {},
   "outputs": [],
   "source": [
    "d = {'student': [], 'team': [], 'absence': []}\n",
    "newdf= pd.DataFrame(data=d)"
   ]
  },
  {
   "cell_type": "code",
   "execution_count": 496,
   "metadata": {},
   "outputs": [
    {
     "data": {
      "text/html": [
       "<div>\n",
       "<style scoped>\n",
       "    .dataframe tbody tr th:only-of-type {\n",
       "        vertical-align: middle;\n",
       "    }\n",
       "\n",
       "    .dataframe tbody tr th {\n",
       "        vertical-align: top;\n",
       "    }\n",
       "\n",
       "    .dataframe thead th {\n",
       "        text-align: right;\n",
       "    }\n",
       "</style>\n",
       "<table border=\"1\" class=\"dataframe\">\n",
       "  <thead>\n",
       "    <tr style=\"text-align: right;\">\n",
       "      <th></th>\n",
       "      <th>student</th>\n",
       "      <th>team</th>\n",
       "      <th>absence</th>\n",
       "    </tr>\n",
       "  </thead>\n",
       "  <tbody>\n",
       "  </tbody>\n",
       "</table>\n",
       "</div>"
      ],
      "text/plain": [
       "Empty DataFrame\n",
       "Columns: [student, team, absence]\n",
       "Index: []"
      ]
     },
     "execution_count": 496,
     "metadata": {},
     "output_type": "execute_result"
    }
   ],
   "source": [
    "newdf"
   ]
  },
  {
   "cell_type": "code",
   "execution_count": 497,
   "metadata": {},
   "outputs": [],
   "source": [
    "#remove the cap 500k\n",
    "tmp= df[df[\"Unnamed: 0\"] == 0]"
   ]
  },
  {
   "cell_type": "code",
   "execution_count": 498,
   "metadata": {},
   "outputs": [],
   "source": [
    "def isNaN(num):\n",
    "    return num != num"
   ]
  },
  {
   "cell_type": "code",
   "execution_count": null,
   "metadata": {},
   "outputs": [],
   "source": []
  },
  {
   "cell_type": "code",
   "execution_count": 499,
   "metadata": {},
   "outputs": [],
   "source": [
    "#df1 = df1.append({'student':tmp.values[0][1],'team':tmp.values[0][3],'absence':tmp.values[0][2]}, ignore_index=True)\n",
    "#df1 = df1.append({'student':tmp.values[0][1],'team':tmp.values[0][4],'absence':tmp.values[0][5]}, ignore_index=True)\n",
    "#df1 = df1.append({'student':tmp.values[0][1],'team':tmp.values[0][6],'absence':tmp.values[0][7]}, ignore_index=True)\n",
    "#df1 = df1.append({'student':tmp.values[0][1],'team':tmp.values[0][8],'absence':tmp.values[0][9]}, ignore_index=True)\n"
   ]
  },
  {
   "cell_type": "code",
   "execution_count": 500,
   "metadata": {},
   "outputs": [
    {
     "data": {
      "text/html": [
       "<div>\n",
       "<style scoped>\n",
       "    .dataframe tbody tr th:only-of-type {\n",
       "        vertical-align: middle;\n",
       "    }\n",
       "\n",
       "    .dataframe tbody tr th {\n",
       "        vertical-align: top;\n",
       "    }\n",
       "\n",
       "    .dataframe thead th {\n",
       "        text-align: right;\n",
       "    }\n",
       "</style>\n",
       "<table border=\"1\" class=\"dataframe\">\n",
       "  <thead>\n",
       "    <tr style=\"text-align: right;\">\n",
       "      <th></th>\n",
       "      <th>student</th>\n",
       "      <th>team</th>\n",
       "      <th>absence</th>\n",
       "    </tr>\n",
       "  </thead>\n",
       "  <tbody>\n",
       "  </tbody>\n",
       "</table>\n",
       "</div>"
      ],
      "text/plain": [
       "Empty DataFrame\n",
       "Columns: [student, team, absence]\n",
       "Index: []"
      ]
     },
     "execution_count": 500,
     "metadata": {},
     "output_type": "execute_result"
    }
   ],
   "source": [
    "newdf"
   ]
  },
  {
   "cell_type": "code",
   "execution_count": null,
   "metadata": {},
   "outputs": [],
   "source": []
  },
  {
   "cell_type": "code",
   "execution_count": null,
   "metadata": {},
   "outputs": [],
   "source": []
  },
  {
   "cell_type": "code",
   "execution_count": 501,
   "metadata": {},
   "outputs": [],
   "source": [
    "for index, row in df.iterrows():\n",
    "    #row[\"Fag\"]\n",
    "    #df1 = df1.append({'student':row['Id'],'team':row['Klasse'],'absence':row['Samlet fravær'], ignore_index=True)\n",
    "    \n",
    "    #Todo!!\n",
    "    #if isNaN(row[\"Fravær\"])is False: row[\"Fravær\"] = float(row[\"Fravær\"].replace('%', ''))\n",
    "    #if isNaN(row[\"Fravær.1\"])is False:row[\"Fravær.1\"] = float(row[\"Fravær.1\"].replace('%', ''))\n",
    "    #if isNaN(row[\"Fravær.2\"])is False:row[\"Fravær.2\"] = float(row[\"Fravær.2\"].replace('%', ''))\n",
    "    #if isNaN(row[\"Fravær.3\"])is False:row[\"Fravær.3\"] = float(row[\"Fravær.3\"].replace('%', ''))\n",
    "    #print(isNaN(row[\"Fravær.3\"]))\n",
    "    \n",
    "    newdf = newdf.append({'student':row['Id'],'team':row['Fag'],'absence':row['Fravær']}, ignore_index=True)\n",
    "    newdf = newdf.append({'student':row['Id'],'team':row['Fag.1'],'absence':row['Fravær.1']}, ignore_index=True)\n",
    "    newdf = newdf.append({'student':row['Id'],'team':tmp.values[0][6],'absence':row['Fravær.2']}, ignore_index=True)\n",
    "    newdf = newdf.append({'student':row['Id'],'team':tmp.values[0][8],'absence':row['Fravær.3']}, ignore_index=True)\n",
    "                         \n"
   ]
  },
  {
   "cell_type": "code",
   "execution_count": 502,
   "metadata": {},
   "outputs": [],
   "source": [
    "newdf = newdf.dropna()"
   ]
  },
  {
   "cell_type": "markdown",
   "metadata": {},
   "source": []
  },
  {
   "cell_type": "code",
   "execution_count": 503,
   "metadata": {},
   "outputs": [],
   "source": [
    "arr =newdf[\"absence\"].values\n",
    "tmp = []\n",
    "for x in arr:\n",
    "    x= float(x.replace('%', ''))\n",
    "    \n",
    "    tmp.append(x)\n",
    "\n"
   ]
  },
  {
   "cell_type": "code",
   "execution_count": 504,
   "metadata": {},
   "outputs": [
    {
     "data": {
      "text/html": [
       "<div>\n",
       "<style scoped>\n",
       "    .dataframe tbody tr th:only-of-type {\n",
       "        vertical-align: middle;\n",
       "    }\n",
       "\n",
       "    .dataframe tbody tr th {\n",
       "        vertical-align: top;\n",
       "    }\n",
       "\n",
       "    .dataframe thead th {\n",
       "        text-align: right;\n",
       "    }\n",
       "</style>\n",
       "<table border=\"1\" class=\"dataframe\">\n",
       "  <thead>\n",
       "    <tr style=\"text-align: right;\">\n",
       "      <th></th>\n",
       "      <th>student</th>\n",
       "      <th>team</th>\n",
       "      <th>absence</th>\n",
       "    </tr>\n",
       "  </thead>\n",
       "  <tbody>\n",
       "    <tr>\n",
       "      <th>0</th>\n",
       "      <td>866066.0</td>\n",
       "      <td>Angular</td>\n",
       "      <td>100.0</td>\n",
       "    </tr>\n",
       "    <tr>\n",
       "      <th>1</th>\n",
       "      <td>866066.0</td>\n",
       "      <td>Web Security</td>\n",
       "      <td>100.0</td>\n",
       "    </tr>\n",
       "    <tr>\n",
       "      <th>4</th>\n",
       "      <td>130671.0</td>\n",
       "      <td>Angular</td>\n",
       "      <td>100.0</td>\n",
       "    </tr>\n",
       "    <tr>\n",
       "      <th>5</th>\n",
       "      <td>130671.0</td>\n",
       "      <td>Web Security</td>\n",
       "      <td>100.0</td>\n",
       "    </tr>\n",
       "    <tr>\n",
       "      <th>8</th>\n",
       "      <td>313022.0</td>\n",
       "      <td>Angular</td>\n",
       "      <td>100.0</td>\n",
       "    </tr>\n",
       "  </tbody>\n",
       "</table>\n",
       "</div>"
      ],
      "text/plain": [
       "    student          team  absence\n",
       "0  866066.0       Angular    100.0\n",
       "1  866066.0  Web Security    100.0\n",
       "4  130671.0       Angular    100.0\n",
       "5  130671.0  Web Security    100.0\n",
       "8  313022.0       Angular    100.0"
      ]
     },
     "execution_count": 504,
     "metadata": {},
     "output_type": "execute_result"
    }
   ],
   "source": [
    "newdf =newdf.drop(['absence'], axis=1)\n",
    "newdf['absence'] = tmp\n",
    "newdf.head()\n"
   ]
  },
  {
   "cell_type": "code",
   "execution_count": 515,
   "metadata": {},
   "outputs": [],
   "source": [
    "newdf = newdf[newdf[\"absence\"] <= 75.0]"
   ]
  },
  {
   "cell_type": "code",
   "execution_count": null,
   "metadata": {},
   "outputs": [],
   "source": []
  },
  {
   "cell_type": "code",
   "execution_count": 519,
   "metadata": {},
   "outputs": [],
   "source": [
    "team_encode,team_cat = newdf['team'].factorize()\n"
   ]
  },
  {
   "cell_type": "code",
   "execution_count": 517,
   "metadata": {},
   "outputs": [],
   "source": [
    "newdf[\"team_cat\"] = team_encode"
   ]
  },
  {
   "cell_type": "code",
   "execution_count": 518,
   "metadata": {},
   "outputs": [
    {
     "name": "stdout",
     "output_type": "stream",
     "text": [
      "<class 'pandas.core.frame.DataFrame'>\n",
      "Int64Index: 507 entries, 89 to 890\n",
      "Data columns (total 4 columns):\n",
      "student     507 non-null float64\n",
      "team        507 non-null object\n",
      "absence     507 non-null float64\n",
      "team_cat    507 non-null int64\n",
      "dtypes: float64(2), int64(1), object(1)\n",
      "memory usage: 19.8+ KB\n"
     ]
    }
   ],
   "source": [
    "newdf.info()"
   ]
  },
  {
   "cell_type": "code",
   "execution_count": 521,
   "metadata": {},
   "outputs": [
    {
     "data": {
      "text/html": [
       "<div>\n",
       "<style scoped>\n",
       "    .dataframe tbody tr th:only-of-type {\n",
       "        vertical-align: middle;\n",
       "    }\n",
       "\n",
       "    .dataframe tbody tr th {\n",
       "        vertical-align: top;\n",
       "    }\n",
       "\n",
       "    .dataframe thead th {\n",
       "        text-align: right;\n",
       "    }\n",
       "</style>\n",
       "<table border=\"1\" class=\"dataframe\">\n",
       "  <thead>\n",
       "    <tr style=\"text-align: right;\">\n",
       "      <th></th>\n",
       "      <th>student</th>\n",
       "      <th>team</th>\n",
       "      <th>absence</th>\n",
       "      <th>team_cat</th>\n",
       "    </tr>\n",
       "  </thead>\n",
       "  <tbody>\n",
       "    <tr>\n",
       "      <th>89</th>\n",
       "      <td>645146.0</td>\n",
       "      <td>IT Governance 2</td>\n",
       "      <td>0.00</td>\n",
       "      <td>0</td>\n",
       "    </tr>\n",
       "    <tr>\n",
       "      <th>93</th>\n",
       "      <td>885986.0</td>\n",
       "      <td>IT Governance 2</td>\n",
       "      <td>0.00</td>\n",
       "      <td>0</td>\n",
       "    </tr>\n",
       "    <tr>\n",
       "      <th>97</th>\n",
       "      <td>552567.0</td>\n",
       "      <td>IT Governance 2</td>\n",
       "      <td>0.00</td>\n",
       "      <td>0</td>\n",
       "    </tr>\n",
       "    <tr>\n",
       "      <th>100</th>\n",
       "      <td>901019.0</td>\n",
       "      <td>Databases</td>\n",
       "      <td>50.00</td>\n",
       "      <td>1</td>\n",
       "    </tr>\n",
       "    <tr>\n",
       "      <th>104</th>\n",
       "      <td>802192.0</td>\n",
       "      <td>Angular</td>\n",
       "      <td>66.67</td>\n",
       "      <td>2</td>\n",
       "    </tr>\n",
       "  </tbody>\n",
       "</table>\n",
       "</div>"
      ],
      "text/plain": [
       "      student             team  absence  team_cat\n",
       "89   645146.0  IT Governance 2     0.00         0\n",
       "93   885986.0  IT Governance 2     0.00         0\n",
       "97   552567.0  IT Governance 2     0.00         0\n",
       "100  901019.0        Databases    50.00         1\n",
       "104  802192.0          Angular    66.67         2"
      ]
     },
     "execution_count": 521,
     "metadata": {},
     "output_type": "execute_result"
    }
   ],
   "source": [
    "newdf.head()"
   ]
  },
  {
   "cell_type": "code",
   "execution_count": null,
   "metadata": {},
   "outputs": [],
   "source": []
  }
 ],
 "metadata": {
  "kernelspec": {
   "display_name": "Python 3",
   "language": "python",
   "name": "python3"
  },
  "language_info": {
   "codemirror_mode": {
    "name": "ipython",
    "version": 3
   },
   "file_extension": ".py",
   "mimetype": "text/x-python",
   "name": "python",
   "nbconvert_exporter": "python",
   "pygments_lexer": "ipython3",
   "version": "3.6.5"
  }
 },
 "nbformat": 4,
 "nbformat_minor": 2
}
